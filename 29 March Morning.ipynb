{
 "cells": [
  {
   "cell_type": "code",
   "execution_count": 1,
   "id": "7f591795",
   "metadata": {},
   "outputs": [],
   "source": [
    "import re"
   ]
  },
  {
   "cell_type": "code",
   "execution_count": null,
   "id": "1fbee81e",
   "metadata": {},
   "outputs": [],
   "source": [
    "#functions associated with regex\n",
    "1. findall() : it returns list of matched object in the expression based on the pattern given. \n",
    "2. search()\n",
    "3. match()\n",
    "4. sub()\n",
    "5. split()\n",
    "6. compile()\n"
   ]
  },
  {
   "cell_type": "code",
   "execution_count": 3,
   "id": "a54162d2",
   "metadata": {},
   "outputs": [
    {
     "name": "stdout",
     "output_type": "stream",
     "text": [
      "enter text tovalidateThe first re program\n",
      "['The']\n"
     ]
    }
   ],
   "source": [
    "#check whether your given text is starting with certain string\n",
    "import re \n",
    "text=input(\"enter text tovalidate\")\n",
    "pattern =\"^The\"\n",
    "r=re.findall(pattern,text)\n",
    "print(r)"
   ]
  },
  {
   "cell_type": "code",
   "execution_count": 7,
   "id": "86a91905",
   "metadata": {},
   "outputs": [
    {
     "name": "stdout",
     "output_type": "stream",
     "text": [
      "enter text tovalidateThe first program\n",
      "<re.Match object; span=(0, 3), match='The'>\n"
     ]
    }
   ],
   "source": [
    "import re \n",
    "text=input(\"enter text tovalidate\")\n",
    "pattern =\"^The\"\n",
    "r=re.search(pattern,text)\n",
    "print(r)"
   ]
  },
  {
   "cell_type": "code",
   "execution_count": 8,
   "id": "e2c55106",
   "metadata": {},
   "outputs": [
    {
     "name": "stdout",
     "output_type": "stream",
     "text": [
      "enter text tovalidateThe first program\n",
      "<re.Match object; span=(0, 3), match='The'>\n"
     ]
    }
   ],
   "source": [
    "import re \n",
    "text=input(\"enter text tovalidate\")\n",
    "pattern =\"^The\"\n",
    "r=re.match(pattern,text)\n",
    "print(r)"
   ]
  },
  {
   "cell_type": "code",
   "execution_count": null,
   "id": "2c750300",
   "metadata": {},
   "outputs": [],
   "source": [
    "#Meta characters\n",
    "#sequences \n",
    "#sets\n"
   ]
  },
  {
   "cell_type": "code",
   "execution_count": null,
   "id": "23923ddb",
   "metadata": {},
   "outputs": [],
   "source": [
    "#metacharacters: \n",
    "^  : used to check whether string starts with given string or not \n",
    "$: it checks whether your string ends with given string\n",
    "| : it returns either of one object matches with the given string \n",
    "* \n",
    "+\n",
    "{}\n",
    ".\n",
    "()\n",
    "[]\n",
    "\n"
   ]
  },
  {
   "cell_type": "code",
   "execution_count": 10,
   "id": "93cbb3df",
   "metadata": {},
   "outputs": [
    {
     "name": "stdout",
     "output_type": "stream",
     "text": [
      "enter text to validatethe first exampl\n",
      "[]\n",
      "not validated\n"
     ]
    }
   ],
   "source": [
    "import re \n",
    "text=input(\"enter text to validate\")\n",
    "pattern =\"program$\" #it checks whether your string ends with given string\n",
    "r=re.findall(pattern,text)\n",
    "print(r)\n",
    "if re.search(pattern,text):\n",
    "    print(\"validated\")\n",
    "else:\n",
    "    print(\"not validated\")\n",
    "    "
   ]
  },
  {
   "cell_type": "code",
   "execution_count": 12,
   "id": "b00f4efd",
   "metadata": {},
   "outputs": [
    {
     "name": "stdout",
     "output_type": "stream",
     "text": [
      "enter text to validateprogram done\n",
      "[]\n",
      "not validated\n"
     ]
    }
   ],
   "source": [
    "import re \n",
    "text=input(\"enter text to validate\")\n",
    "pattern =\"^program$\" #it checks whether your string ends with given string\n",
    "r=re.findall(pattern,text)\n",
    "print(r)\n",
    "if re.search(pattern,text):\n",
    "    print(\"validated\")\n",
    "else:\n",
    "    print(\"not validated\")"
   ]
  },
  {
   "cell_type": "code",
   "execution_count": 15,
   "id": "b0c8d0d9",
   "metadata": {},
   "outputs": [
    {
     "name": "stdout",
     "output_type": "stream",
     "text": [
      "enter text to validatethe program is java\n",
      "['java']\n",
      "validated\n"
     ]
    }
   ],
   "source": [
    "import re \n",
    "text=input(\"enter text to validate\")\n",
    "pattern =\"python|java\" \n",
    "r=re.findall(pattern,text)\n",
    "print(r)\n",
    "if re.search(pattern,text):\n",
    "    print(\"validated\")\n",
    "else:\n",
    "    print(\"not validated\")"
   ]
  },
  {
   "cell_type": "code",
   "execution_count": null,
   "id": "647d18fc",
   "metadata": {},
   "outputs": [],
   "source": [
    "#to check validation rules of occurences of given string \n",
    "* : 0 or more occurence of string \n",
    "+ : 1 or more \n",
    "{} "
   ]
  },
  {
   "cell_type": "code",
   "execution_count": 16,
   "id": "048ddf24",
   "metadata": {},
   "outputs": [
    {
     "name": "stdout",
     "output_type": "stream",
     "text": [
      "enter text to validatexyx  xxyyx xxxx yyyxxx xyyxxx\n",
      "['xyx', 'xx', 'xxxx', 'xxx', 'xyyxxx']\n",
      "validated\n"
     ]
    }
   ],
   "source": [
    "import re \n",
    "text=input(\"enter text to validate\")\n",
    "pattern =\"xy*x+\" \n",
    "r=re.findall(pattern,text)\n",
    "print(r)\n",
    "if re.search(pattern,text):\n",
    "    print(\"validated\")\n",
    "else:\n",
    "    print(\"not validated\")"
   ]
  },
  {
   "cell_type": "code",
   "execution_count": 17,
   "id": "e4a41ba3",
   "metadata": {},
   "outputs": [
    {
     "name": "stdout",
     "output_type": "stream",
     "text": [
      "enter text to validatexyx  xxyyx xxxx yyyxxx xyyxxx\n",
      "['xyx', 'xyyx', 'xyyxxx']\n",
      "validated\n"
     ]
    }
   ],
   "source": [
    "import re \n",
    "text=input(\"enter text to validate\")\n",
    "pattern =\"xy+x+\" \n",
    "r=re.findall(pattern,text)\n",
    "print(r)\n",
    "if re.search(pattern,text):\n",
    "    print(\"validated\")\n",
    "else:\n",
    "    print(\"not validated\")"
   ]
  },
  {
   "cell_type": "code",
   "execution_count": 18,
   "id": "4347bcff",
   "metadata": {},
   "outputs": [
    {
     "name": "stdout",
     "output_type": "stream",
     "text": [
      "enter text to validateabbb bbb baba ab abbbb ababbbb\n",
      "['abbb', 'bbb', 'abbb', 'abbb']\n",
      "validated\n"
     ]
    }
   ],
   "source": [
    "import re \n",
    "text=input(\"enter text to validate\")\n",
    "pattern =\"a*b{3}\" \n",
    "r=re.findall(pattern,text)\n",
    "print(r)\n",
    "if re.search(pattern,text):\n",
    "    print(\"validated\")\n",
    "else:\n",
    "    print(\"not validated\")"
   ]
  },
  {
   "cell_type": "code",
   "execution_count": 19,
   "id": "91dbbad7",
   "metadata": {},
   "outputs": [
    {
     "name": "stdout",
     "output_type": "stream",
     "text": [
      "enter text to validateaabbb bbabbb bbbbb abbb \n",
      "['aabbb']\n",
      "validated\n"
     ]
    }
   ],
   "source": [
    "import re \n",
    "text=input(\"enter text to validate\")\n",
    "pattern =\"a{2,5}b{3}\" \n",
    "r=re.findall(pattern,text)\n",
    "print(r)\n",
    "if re.search(pattern,text):\n",
    "    print(\"validated\")\n",
    "else:\n",
    "    print(\"not validated\")"
   ]
  },
  {
   "cell_type": "code",
   "execution_count": 33,
   "id": "0c76bc09",
   "metadata": {},
   "outputs": [
    {
     "name": "stdout",
     "output_type": "stream",
     "text": [
      "enter text to validatepythoon\n",
      "['pythoon']\n",
      "validated\n"
     ]
    }
   ],
   "source": [
    "# . : used as a placeholder which indicates how many characters to include between text\n",
    "import re \n",
    "text=input(\"enter text to validate\")\n",
    "pattern =\"pyt..on\" \n",
    "r=re.findall(pattern,text)\n",
    "print(r)\n",
    "if re.search(pattern,text):\n",
    "    print(\"validated\")\n",
    "else:\n",
    "    print(\"not validated\")"
   ]
  },
  {
   "cell_type": "code",
   "execution_count": 31,
   "id": "3aad8ae9",
   "metadata": {},
   "outputs": [
    {
     "name": "stdout",
     "output_type": "stream",
     "text": [
      "enter text to validateapple\n",
      "['a', 'l', 'e']\n",
      "validated\n"
     ]
    }
   ],
   "source": [
    "#[] \n",
    "import re \n",
    "text=input(\"enter text to validate\")\n",
    "pattern =\"[a-m]\" \n",
    "r=re.findall(pattern,text)\n",
    "print(r)\n",
    "if re.search(pattern,text):\n",
    "    print(\"validated\")\n",
    "else:\n",
    "    print(\"not validated\")"
   ]
  },
  {
   "cell_type": "code",
   "execution_count": 28,
   "id": "f473e76b",
   "metadata": {},
   "outputs": [
    {
     "name": "stdout",
     "output_type": "stream",
     "text": [
      "enter text to validatecomputer\n",
      "['m']\n",
      "validated\n"
     ]
    }
   ],
   "source": [
    "import re \n",
    "text=input(\"enter text to validate\")\n",
    "pattern =\"[am]\" \n",
    "r=re.findall(pattern,text)\n",
    "print(r)\n",
    "if re.search(pattern,text):\n",
    "    print(\"validated\")\n",
    "else:\n",
    "    print(\"not validated\")"
   ]
  },
  {
   "cell_type": "code",
   "execution_count": 29,
   "id": "a711892e",
   "metadata": {},
   "outputs": [
    {
     "name": "stdout",
     "output_type": "stream",
     "text": [
      "enter text to validatecomputer\n",
      "[]\n",
      "not validated\n"
     ]
    }
   ],
   "source": [
    "import re \n",
    "text=input(\"enter text to validate\")\n",
    "pattern =\"am\" \n",
    "r=re.findall(pattern,text)\n",
    "print(r)\n",
    "if re.search(pattern,text):\n",
    "    print(\"validated\")\n",
    "else:\n",
    "    print(\"not validated\")"
   ]
  },
  {
   "cell_type": "code",
   "execution_count": 34,
   "id": "091f3568",
   "metadata": {},
   "outputs": [
    {
     "name": "stdout",
     "output_type": "stream",
     "text": [
      "enter text to validatecomputer\n",
      "['c']\n",
      "validated\n"
     ]
    }
   ],
   "source": [
    "import re \n",
    "text=input(\"enter text to validate\")\n",
    "pattern =\"^[a-m]\" \n",
    "r=re.findall(pattern,text)\n",
    "print(r)\n",
    "if re.search(pattern,text):\n",
    "    print(\"validated\")\n",
    "else:\n",
    "    print(\"not validated\")"
   ]
  },
  {
   "cell_type": "code",
   "execution_count": 35,
   "id": "21d364f2",
   "metadata": {},
   "outputs": [
    {
     "name": "stdout",
     "output_type": "stream",
     "text": [
      "enter text to validatecomputer\n",
      "['o', 'p', 'u', 't', 'r']\n",
      "validated\n"
     ]
    }
   ],
   "source": [
    "import re \n",
    "text=input(\"enter text to validate\")\n",
    "pattern =\"[^a-m]\" \n",
    "r=re.findall(pattern,text)\n",
    "print(r)\n",
    "if re.search(pattern,text):\n",
    "    print(\"validated\")\n",
    "else:\n",
    "    print(\"not validated\")"
   ]
  },
  {
   "cell_type": "code",
   "execution_count": 37,
   "id": "6fcf13c3",
   "metadata": {},
   "outputs": [
    {
     "name": "stdout",
     "output_type": "stream",
     "text": [
      "enter text to validatecomputer\n"
     ]
    },
    {
     "ename": "error",
     "evalue": "bad character range a-^ at position 1",
     "output_type": "error",
     "traceback": [
      "\u001b[1;31m---------------------------------------------------------------------------\u001b[0m",
      "\u001b[1;31merror\u001b[0m                                     Traceback (most recent call last)",
      "\u001b[1;32m<ipython-input-37-228200887df8>\u001b[0m in \u001b[0;36m<module>\u001b[1;34m\u001b[0m\n\u001b[0;32m      2\u001b[0m \u001b[0mtext\u001b[0m\u001b[1;33m=\u001b[0m\u001b[0minput\u001b[0m\u001b[1;33m(\u001b[0m\u001b[1;34m\"enter text to validate\"\u001b[0m\u001b[1;33m)\u001b[0m\u001b[1;33m\u001b[0m\u001b[1;33m\u001b[0m\u001b[0m\n\u001b[0;32m      3\u001b[0m \u001b[0mpattern\u001b[0m \u001b[1;33m=\u001b[0m\u001b[1;34m\"[a-^m]\"\u001b[0m\u001b[1;33m\u001b[0m\u001b[1;33m\u001b[0m\u001b[0m\n\u001b[1;32m----> 4\u001b[1;33m \u001b[0mr\u001b[0m\u001b[1;33m=\u001b[0m\u001b[0mre\u001b[0m\u001b[1;33m.\u001b[0m\u001b[0mfindall\u001b[0m\u001b[1;33m(\u001b[0m\u001b[0mpattern\u001b[0m\u001b[1;33m,\u001b[0m\u001b[0mtext\u001b[0m\u001b[1;33m)\u001b[0m\u001b[1;33m\u001b[0m\u001b[1;33m\u001b[0m\u001b[0m\n\u001b[0m\u001b[0;32m      5\u001b[0m \u001b[0mprint\u001b[0m\u001b[1;33m(\u001b[0m\u001b[0mr\u001b[0m\u001b[1;33m)\u001b[0m\u001b[1;33m\u001b[0m\u001b[1;33m\u001b[0m\u001b[0m\n\u001b[0;32m      6\u001b[0m \u001b[1;32mif\u001b[0m \u001b[0mre\u001b[0m\u001b[1;33m.\u001b[0m\u001b[0msearch\u001b[0m\u001b[1;33m(\u001b[0m\u001b[0mpattern\u001b[0m\u001b[1;33m,\u001b[0m\u001b[0mtext\u001b[0m\u001b[1;33m)\u001b[0m\u001b[1;33m:\u001b[0m\u001b[1;33m\u001b[0m\u001b[1;33m\u001b[0m\u001b[0m\n",
      "\u001b[1;32mC:\\Anaconda\\lib\\re.py\u001b[0m in \u001b[0;36mfindall\u001b[1;34m(pattern, string, flags)\u001b[0m\n\u001b[0;32m    239\u001b[0m \u001b[1;33m\u001b[0m\u001b[0m\n\u001b[0;32m    240\u001b[0m     Empty matches are included in the result.\"\"\"\n\u001b[1;32m--> 241\u001b[1;33m     \u001b[1;32mreturn\u001b[0m \u001b[0m_compile\u001b[0m\u001b[1;33m(\u001b[0m\u001b[0mpattern\u001b[0m\u001b[1;33m,\u001b[0m \u001b[0mflags\u001b[0m\u001b[1;33m)\u001b[0m\u001b[1;33m.\u001b[0m\u001b[0mfindall\u001b[0m\u001b[1;33m(\u001b[0m\u001b[0mstring\u001b[0m\u001b[1;33m)\u001b[0m\u001b[1;33m\u001b[0m\u001b[1;33m\u001b[0m\u001b[0m\n\u001b[0m\u001b[0;32m    242\u001b[0m \u001b[1;33m\u001b[0m\u001b[0m\n\u001b[0;32m    243\u001b[0m \u001b[1;32mdef\u001b[0m \u001b[0mfinditer\u001b[0m\u001b[1;33m(\u001b[0m\u001b[0mpattern\u001b[0m\u001b[1;33m,\u001b[0m \u001b[0mstring\u001b[0m\u001b[1;33m,\u001b[0m \u001b[0mflags\u001b[0m\u001b[1;33m=\u001b[0m\u001b[1;36m0\u001b[0m\u001b[1;33m)\u001b[0m\u001b[1;33m:\u001b[0m\u001b[1;33m\u001b[0m\u001b[1;33m\u001b[0m\u001b[0m\n",
      "\u001b[1;32mC:\\Anaconda\\lib\\re.py\u001b[0m in \u001b[0;36m_compile\u001b[1;34m(pattern, flags)\u001b[0m\n\u001b[0;32m    302\u001b[0m     \u001b[1;32mif\u001b[0m \u001b[1;32mnot\u001b[0m \u001b[0msre_compile\u001b[0m\u001b[1;33m.\u001b[0m\u001b[0misstring\u001b[0m\u001b[1;33m(\u001b[0m\u001b[0mpattern\u001b[0m\u001b[1;33m)\u001b[0m\u001b[1;33m:\u001b[0m\u001b[1;33m\u001b[0m\u001b[1;33m\u001b[0m\u001b[0m\n\u001b[0;32m    303\u001b[0m         \u001b[1;32mraise\u001b[0m \u001b[0mTypeError\u001b[0m\u001b[1;33m(\u001b[0m\u001b[1;34m\"first argument must be string or compiled pattern\"\u001b[0m\u001b[1;33m)\u001b[0m\u001b[1;33m\u001b[0m\u001b[1;33m\u001b[0m\u001b[0m\n\u001b[1;32m--> 304\u001b[1;33m     \u001b[0mp\u001b[0m \u001b[1;33m=\u001b[0m \u001b[0msre_compile\u001b[0m\u001b[1;33m.\u001b[0m\u001b[0mcompile\u001b[0m\u001b[1;33m(\u001b[0m\u001b[0mpattern\u001b[0m\u001b[1;33m,\u001b[0m \u001b[0mflags\u001b[0m\u001b[1;33m)\u001b[0m\u001b[1;33m\u001b[0m\u001b[1;33m\u001b[0m\u001b[0m\n\u001b[0m\u001b[0;32m    305\u001b[0m     \u001b[1;32mif\u001b[0m \u001b[1;32mnot\u001b[0m \u001b[1;33m(\u001b[0m\u001b[0mflags\u001b[0m \u001b[1;33m&\u001b[0m \u001b[0mDEBUG\u001b[0m\u001b[1;33m)\u001b[0m\u001b[1;33m:\u001b[0m\u001b[1;33m\u001b[0m\u001b[1;33m\u001b[0m\u001b[0m\n\u001b[0;32m    306\u001b[0m         \u001b[1;32mif\u001b[0m \u001b[0mlen\u001b[0m\u001b[1;33m(\u001b[0m\u001b[0m_cache\u001b[0m\u001b[1;33m)\u001b[0m \u001b[1;33m>=\u001b[0m \u001b[0m_MAXCACHE\u001b[0m\u001b[1;33m:\u001b[0m\u001b[1;33m\u001b[0m\u001b[1;33m\u001b[0m\u001b[0m\n",
      "\u001b[1;32mC:\\Anaconda\\lib\\sre_compile.py\u001b[0m in \u001b[0;36mcompile\u001b[1;34m(p, flags)\u001b[0m\n\u001b[0;32m    762\u001b[0m     \u001b[1;32mif\u001b[0m \u001b[0misstring\u001b[0m\u001b[1;33m(\u001b[0m\u001b[0mp\u001b[0m\u001b[1;33m)\u001b[0m\u001b[1;33m:\u001b[0m\u001b[1;33m\u001b[0m\u001b[1;33m\u001b[0m\u001b[0m\n\u001b[0;32m    763\u001b[0m         \u001b[0mpattern\u001b[0m \u001b[1;33m=\u001b[0m \u001b[0mp\u001b[0m\u001b[1;33m\u001b[0m\u001b[1;33m\u001b[0m\u001b[0m\n\u001b[1;32m--> 764\u001b[1;33m         \u001b[0mp\u001b[0m \u001b[1;33m=\u001b[0m \u001b[0msre_parse\u001b[0m\u001b[1;33m.\u001b[0m\u001b[0mparse\u001b[0m\u001b[1;33m(\u001b[0m\u001b[0mp\u001b[0m\u001b[1;33m,\u001b[0m \u001b[0mflags\u001b[0m\u001b[1;33m)\u001b[0m\u001b[1;33m\u001b[0m\u001b[1;33m\u001b[0m\u001b[0m\n\u001b[0m\u001b[0;32m    765\u001b[0m     \u001b[1;32melse\u001b[0m\u001b[1;33m:\u001b[0m\u001b[1;33m\u001b[0m\u001b[1;33m\u001b[0m\u001b[0m\n\u001b[0;32m    766\u001b[0m         \u001b[0mpattern\u001b[0m \u001b[1;33m=\u001b[0m \u001b[1;32mNone\u001b[0m\u001b[1;33m\u001b[0m\u001b[1;33m\u001b[0m\u001b[0m\n",
      "\u001b[1;32mC:\\Anaconda\\lib\\sre_parse.py\u001b[0m in \u001b[0;36mparse\u001b[1;34m(str, flags, state)\u001b[0m\n\u001b[0;32m    946\u001b[0m \u001b[1;33m\u001b[0m\u001b[0m\n\u001b[0;32m    947\u001b[0m     \u001b[1;32mtry\u001b[0m\u001b[1;33m:\u001b[0m\u001b[1;33m\u001b[0m\u001b[1;33m\u001b[0m\u001b[0m\n\u001b[1;32m--> 948\u001b[1;33m         \u001b[0mp\u001b[0m \u001b[1;33m=\u001b[0m \u001b[0m_parse_sub\u001b[0m\u001b[1;33m(\u001b[0m\u001b[0msource\u001b[0m\u001b[1;33m,\u001b[0m \u001b[0mstate\u001b[0m\u001b[1;33m,\u001b[0m \u001b[0mflags\u001b[0m \u001b[1;33m&\u001b[0m \u001b[0mSRE_FLAG_VERBOSE\u001b[0m\u001b[1;33m,\u001b[0m \u001b[1;36m0\u001b[0m\u001b[1;33m)\u001b[0m\u001b[1;33m\u001b[0m\u001b[1;33m\u001b[0m\u001b[0m\n\u001b[0m\u001b[0;32m    949\u001b[0m     \u001b[1;32mexcept\u001b[0m \u001b[0mVerbose\u001b[0m\u001b[1;33m:\u001b[0m\u001b[1;33m\u001b[0m\u001b[1;33m\u001b[0m\u001b[0m\n\u001b[0;32m    950\u001b[0m         \u001b[1;31m# the VERBOSE flag was switched on inside the pattern.  to be\u001b[0m\u001b[1;33m\u001b[0m\u001b[1;33m\u001b[0m\u001b[1;33m\u001b[0m\u001b[0m\n",
      "\u001b[1;32mC:\\Anaconda\\lib\\sre_parse.py\u001b[0m in \u001b[0;36m_parse_sub\u001b[1;34m(source, state, verbose, nested)\u001b[0m\n\u001b[0;32m    441\u001b[0m     \u001b[0mstart\u001b[0m \u001b[1;33m=\u001b[0m \u001b[0msource\u001b[0m\u001b[1;33m.\u001b[0m\u001b[0mtell\u001b[0m\u001b[1;33m(\u001b[0m\u001b[1;33m)\u001b[0m\u001b[1;33m\u001b[0m\u001b[1;33m\u001b[0m\u001b[0m\n\u001b[0;32m    442\u001b[0m     \u001b[1;32mwhile\u001b[0m \u001b[1;32mTrue\u001b[0m\u001b[1;33m:\u001b[0m\u001b[1;33m\u001b[0m\u001b[1;33m\u001b[0m\u001b[0m\n\u001b[1;32m--> 443\u001b[1;33m         itemsappend(_parse(source, state, verbose, nested + 1,\n\u001b[0m\u001b[0;32m    444\u001b[0m                            not nested and not items))\n\u001b[0;32m    445\u001b[0m         \u001b[1;32mif\u001b[0m \u001b[1;32mnot\u001b[0m \u001b[0msourcematch\u001b[0m\u001b[1;33m(\u001b[0m\u001b[1;34m\"|\"\u001b[0m\u001b[1;33m)\u001b[0m\u001b[1;33m:\u001b[0m\u001b[1;33m\u001b[0m\u001b[1;33m\u001b[0m\u001b[0m\n",
      "\u001b[1;32mC:\\Anaconda\\lib\\sre_parse.py\u001b[0m in \u001b[0;36m_parse\u001b[1;34m(source, state, verbose, nested, first)\u001b[0m\n\u001b[0;32m    596\u001b[0m                     \u001b[1;32mif\u001b[0m \u001b[0mhi\u001b[0m \u001b[1;33m<\u001b[0m \u001b[0mlo\u001b[0m\u001b[1;33m:\u001b[0m\u001b[1;33m\u001b[0m\u001b[1;33m\u001b[0m\u001b[0m\n\u001b[0;32m    597\u001b[0m                         \u001b[0mmsg\u001b[0m \u001b[1;33m=\u001b[0m \u001b[1;34m\"bad character range %s-%s\"\u001b[0m \u001b[1;33m%\u001b[0m \u001b[1;33m(\u001b[0m\u001b[0mthis\u001b[0m\u001b[1;33m,\u001b[0m \u001b[0mthat\u001b[0m\u001b[1;33m)\u001b[0m\u001b[1;33m\u001b[0m\u001b[1;33m\u001b[0m\u001b[0m\n\u001b[1;32m--> 598\u001b[1;33m                         \u001b[1;32mraise\u001b[0m \u001b[0msource\u001b[0m\u001b[1;33m.\u001b[0m\u001b[0merror\u001b[0m\u001b[1;33m(\u001b[0m\u001b[0mmsg\u001b[0m\u001b[1;33m,\u001b[0m \u001b[0mlen\u001b[0m\u001b[1;33m(\u001b[0m\u001b[0mthis\u001b[0m\u001b[1;33m)\u001b[0m \u001b[1;33m+\u001b[0m \u001b[1;36m1\u001b[0m \u001b[1;33m+\u001b[0m \u001b[0mlen\u001b[0m\u001b[1;33m(\u001b[0m\u001b[0mthat\u001b[0m\u001b[1;33m)\u001b[0m\u001b[1;33m)\u001b[0m\u001b[1;33m\u001b[0m\u001b[1;33m\u001b[0m\u001b[0m\n\u001b[0m\u001b[0;32m    599\u001b[0m                     \u001b[0msetappend\u001b[0m\u001b[1;33m(\u001b[0m\u001b[1;33m(\u001b[0m\u001b[0mRANGE\u001b[0m\u001b[1;33m,\u001b[0m \u001b[1;33m(\u001b[0m\u001b[0mlo\u001b[0m\u001b[1;33m,\u001b[0m \u001b[0mhi\u001b[0m\u001b[1;33m)\u001b[0m\u001b[1;33m)\u001b[0m\u001b[1;33m)\u001b[0m\u001b[1;33m\u001b[0m\u001b[1;33m\u001b[0m\u001b[0m\n\u001b[0;32m    600\u001b[0m                 \u001b[1;32melse\u001b[0m\u001b[1;33m:\u001b[0m\u001b[1;33m\u001b[0m\u001b[1;33m\u001b[0m\u001b[0m\n",
      "\u001b[1;31merror\u001b[0m: bad character range a-^ at position 1"
     ]
    }
   ],
   "source": [
    "import re \n",
    "text=input(\"enter text to validate\")\n",
    "pattern =\"[a-^m]\" \n",
    "r=re.findall(pattern,text)\n",
    "print(r)\n",
    "if re.search(pattern,text):\n",
    "    print(\"validated\")\n",
    "else:\n",
    "    print(\"not validated\")"
   ]
  },
  {
   "cell_type": "code",
   "execution_count": 38,
   "id": "a8900bd1",
   "metadata": {},
   "outputs": [
    {
     "name": "stdout",
     "output_type": "stream",
     "text": [
      "enter text to validatecomputer\n",
      "['c', 'o', 'p', 'u', 't', 'e', 'r']\n",
      "validated\n"
     ]
    }
   ],
   "source": [
    "import re \n",
    "text=input(\"enter text to validate\")\n",
    "pattern =\"[^am]\" \n",
    "r=re.findall(pattern,text)\n",
    "print(r)\n",
    "if re.search(pattern,text):\n",
    "    print(\"validated\")\n",
    "else:\n",
    "    print(\"not validated\")"
   ]
  },
  {
   "cell_type": "code",
   "execution_count": 39,
   "id": "4b804e96",
   "metadata": {},
   "outputs": [
    {
     "name": "stdout",
     "output_type": "stream",
     "text": [
      "enter text to validatenest\n",
      "['e']\n",
      "validated\n"
     ]
    }
   ],
   "source": [
    "import re \n",
    "text=input(\"enter text to validate\")\n",
    "pattern =\"[a-m]\" \n",
    "r=re.findall(pattern,text)\n",
    "print(r)\n",
    "if re.search(pattern,text):\n",
    "    print(\"validated\")\n",
    "else:\n",
    "    print(\"not validated\")"
   ]
  },
  {
   "cell_type": "code",
   "execution_count": 40,
   "id": "409ef6c6",
   "metadata": {},
   "outputs": [
    {
     "name": "stdout",
     "output_type": "stream",
     "text": [
      "enter text to validatenest\n",
      "['e']\n",
      "not validated\n"
     ]
    }
   ],
   "source": [
    "import re \n",
    "text=input(\"enter text to validate\")\n",
    "pattern =\"[a-m]\" \n",
    "r=re.findall(pattern,text)\n",
    "print(r)\n",
    "if re.match(pattern,text):\n",
    "    print(\"validated\")\n",
    "else:\n",
    "    print(\"not validated\")"
   ]
  },
  {
   "cell_type": "code",
   "execution_count": 41,
   "id": "f3462d01",
   "metadata": {},
   "outputs": [
    {
     "name": "stdout",
     "output_type": "stream",
     "text": [
      "enter text to validatecomputer\n",
      "['c', 'm', 'e']\n",
      "validated\n"
     ]
    }
   ],
   "source": [
    "import re \n",
    "text=input(\"enter text to validate\")\n",
    "pattern =\"[a-m]\" \n",
    "r=re.findall(pattern,text)\n",
    "print(r)\n",
    "if re.match(pattern,text):\n",
    "    print(\"validated\")\n",
    "else:\n",
    "    print(\"not validated\")"
   ]
  },
  {
   "cell_type": "code",
   "execution_count": 42,
   "id": "551a81a6",
   "metadata": {},
   "outputs": [
    {
     "name": "stdout",
     "output_type": "stream",
     "text": [
      "enter text to validate45 67 12 89 666 8 23 90 \n",
      "['5', '6', '7', '8', '9', '6', '6', '6', '8', '9']\n",
      "not validated\n"
     ]
    }
   ],
   "source": [
    "import re \n",
    "text=input(\"enter text to validate\")\n",
    "pattern =\"[5-9]\" \n",
    "r=re.findall(pattern,text)\n",
    "print(r)\n",
    "if re.match(pattern,text):\n",
    "    print(\"validated\")\n",
    "else:\n",
    "    print(\"not validated\")"
   ]
  },
  {
   "cell_type": "code",
   "execution_count": 43,
   "id": "c5dd27a0",
   "metadata": {},
   "outputs": [
    {
     "name": "stdout",
     "output_type": "stream",
     "text": [
      "enter text to validate45 67 12 89 666 8 23 90 \n",
      "['66']\n",
      "not validated\n"
     ]
    }
   ],
   "source": [
    "import re \n",
    "text=input(\"enter text to validate\")\n",
    "pattern =\"[5-9][1-6]\" \n",
    "r=re.findall(pattern,text)\n",
    "print(r)\n",
    "if re.match(pattern,text):\n",
    "    print(\"validated\")\n",
    "else:\n",
    "    print(\"not validated\")"
   ]
  },
  {
   "cell_type": "code",
   "execution_count": 48,
   "id": "e0c5b85a",
   "metadata": {},
   "outputs": [
    {
     "name": "stdout",
     "output_type": "stream",
     "text": [
      "enter text to validate533\n",
      "['533']\n",
      "validated\n"
     ]
    }
   ],
   "source": [
    "import re \n",
    "text=input(\"enter text to validate\")\n",
    "pattern =\"[5-9][1-6][2-4]\" \n",
    "r=re.findall(pattern,text)\n",
    "print(r)\n",
    "if re.match(pattern,text):\n",
    "    print(\"validated\")\n",
    "else:\n",
    "    print(\"not validated\")"
   ]
  },
  {
   "cell_type": "code",
   "execution_count": 49,
   "id": "98ed1dda",
   "metadata": {},
   "outputs": [
    {
     "name": "stdout",
     "output_type": "stream",
     "text": [
      "enter text to validatethe first program of re\n",
      "[]\n",
      "not validated\n"
     ]
    }
   ],
   "source": [
    "import re \n",
    "text=input(\"enter text to validate\")\n",
    "pattern =\"[5-9][1-6][2-4]\" \n",
    "r=re.findall(pattern,text)\n",
    "print(r)\n",
    "if re.search(pattern,text):\n",
    "    print(\"validated\")\n",
    "else:\n",
    "    print(\"not validated\")"
   ]
  },
  {
   "cell_type": "code",
   "execution_count": null,
   "id": "46045c3f",
   "metadata": {},
   "outputs": [],
   "source": [
    "#first input : text \n",
    "second input : enter string to search : first \n",
    "the first is matching at the position 5"
   ]
  },
  {
   "cell_type": "code",
   "execution_count": null,
   "id": "db2918d9",
   "metadata": {},
   "outputs": [],
   "source": [
    "#phone number validation "
   ]
  },
  {
   "cell_type": "code",
   "execution_count": 52,
   "id": "dcee4d96",
   "metadata": {},
   "outputs": [
    {
     "name": "stdout",
     "output_type": "stream",
     "text": [
      "enter text to validatethe first program\n",
      "enter string to matchfirst\n",
      "['first']\n",
      "validated\n",
      "the position matched is 5\n"
     ]
    }
   ],
   "source": [
    "import re \n",
    "text=input(\"enter text to validate\")\n",
    "pattern =input(\"enter string to match\")\n",
    "r=re.findall(pattern,text)\n",
    "print(r)\n",
    "if re.search(pattern,text):\n",
    "    print(\"validated\")\n",
    "else:\n",
    "    print(\"not validated\")\n",
    "print(\"the position matched is\",text.find(pattern)+1)"
   ]
  },
  {
   "cell_type": "code",
   "execution_count": null,
   "id": "ad630d1b",
   "metadata": {},
   "outputs": [
    {
     "name": "stdout",
     "output_type": "stream",
     "text": [
      "enter text to validatethe first program\n",
      "enter string to matchfirst\n"
     ]
    }
   ],
   "source": [
    "import re \n",
    "text=input(\"enter text to validate\")\n",
    "pattern =input(\"enter string to match\")\n",
    "r=re.search(pattern,text)\n",
    "fi=r.start()\n",
    "li=r.end()\n",
    "\n",
    "print(r)\n",
    "if re.search(pattern,text):\n",
    "    print(\"validated\")\n",
    "else:\n",
    "    print(\"not validated\")\n",
    "\n",
    "print(\"the position matched from first position {} to {}\".format(fi,li))"
   ]
  },
  {
   "cell_type": "code",
   "execution_count": null,
   "id": "e9816d10",
   "metadata": {},
   "outputs": [],
   "source": []
  }
 ],
 "metadata": {
  "kernelspec": {
   "display_name": "Python 3",
   "language": "python",
   "name": "python3"
  },
  "language_info": {
   "codemirror_mode": {
    "name": "ipython",
    "version": 3
   },
   "file_extension": ".py",
   "mimetype": "text/x-python",
   "name": "python",
   "nbconvert_exporter": "python",
   "pygments_lexer": "ipython3",
   "version": "3.8.8"
  }
 },
 "nbformat": 4,
 "nbformat_minor": 5
}
