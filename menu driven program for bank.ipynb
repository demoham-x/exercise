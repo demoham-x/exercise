{
 "cells": [
  {
   "cell_type": "code",
   "execution_count": null,
   "id": "e232a9df",
   "metadata": {},
   "outputs": [
    {
     "name": "stdout",
     "output_type": "stream",
     "text": [
      "list menu\n",
      " 1.open a new account\n",
      " 2.deposit amount\n",
      " 3.withdarwl amount\n",
      "enter your choice number4\n",
      "enter valid choice\n",
      "list menu\n",
      " 1.open a new account\n",
      " 2.deposit amount\n",
      " 3.withdarwl amount\n",
      "enter your choice number2\n"
     ]
    }
   ],
   "source": [
    "#menu driven program for online banking\n",
    "\n",
    "while True:\n",
    "    print(\"list menu\\n 1.open a new account\\n 2.deposit amount\\n 3.withdarwl amount\")\n",
    "    ch=int(input('enter your choice number'))\n",
    "    if ch==1:\n",
    "        acnt_balance=0\n",
    "        name=(input(\"enter your full name: \"))\n",
    "        ph_no=int(input(\"enter your phone number\"))\n",
    "        city=(input(\"enter your district: \"))\n",
    "        address=(input(\"enter your address: \"))\n",
    "        acnt_type=(input(\"enter the acount type(s for savings or c for current): \"))\n",
    "        deposit_amount=int(input(\"enter the amount to be deposited (minimum balance is 1000: )\"))\n",
    "        if deposit_amount<=1000:\n",
    "            print(\"sry! minimum balance is 1000\")\n",
    "        else:\n",
    "            acnt_balance+=deposit_amount\n",
    "        print(\"your acount is created with a rate of intrest 3.5\")\n",
    "        print(\"acount details\\n name: {} \\n city: {} \\n account balace : {}\".format(name,city,acnt_balance))\n",
    "    elif ch==2:\n",
    "        name=(input(\"enter your full name: \"))\n",
    "        ph_no=int(input(\"enter your phone number\"))\n",
    "        deposit_amount=int(input(\"enter the amount to be deposited\"))\n",
    "        acnt_balance=int(input(\"enter you balance\"))\n",
    "        acnt_balance+=deposit_amount\n",
    "        print(\"your amount is  deposted \\n your current balance is : {}\".format(acnt_balance))\n",
    "    elif ch==3:\n",
    "        name=(input(\"enter your full name: \"))\n",
    "        ph_no=int(input(\"enter your phone number\"))\n",
    "        withdraw_amount=int(input(\"enter the amount to be withdrawn\"))\n",
    "        acnt_balance=int(input(\"enter you acount balance\"))\n",
    "        minimum_balance=1000\n",
    "        balance=acnt_balance-withdraw_amount\n",
    "        if balance>minimum_balance:\n",
    "            print(\"you have done a withdrawl of {}\".format(withdraw_amount))\n",
    "            print(\"your current balance is {}\".format(balance))\n",
    "        else:\n",
    "            print(\"your account balance should not be lower than minimum balance(1000)\")\n",
    "    else:\n",
    "        print(\"enter valid choice\")\n",
    "        continue\n",
    "    con=input(\"main menu(1)  close(no==2)\")\n",
    "    if con==\"1\":\n",
    "        continue\n",
    "    elif con==\"2\":\n",
    "        break\n",
    "print(\"thankyou for using our service\")\n",
    "   "
   ]
  },
  {
   "cell_type": "code",
   "execution_count": null,
   "id": "4c6c819d",
   "metadata": {},
   "outputs": [],
   "source": []
  },
  {
   "cell_type": "code",
   "execution_count": null,
   "id": "b0970c1f",
   "metadata": {},
   "outputs": [],
   "source": []
  }
 ],
 "metadata": {
  "kernelspec": {
   "display_name": "Python 3 (ipykernel)",
   "language": "python",
   "name": "python3"
  },
  "language_info": {
   "codemirror_mode": {
    "name": "ipython",
    "version": 3
   },
   "file_extension": ".py",
   "mimetype": "text/x-python",
   "name": "python",
   "nbconvert_exporter": "python",
   "pygments_lexer": "ipython3",
   "version": "3.9.7"
  }
 },
 "nbformat": 4,
 "nbformat_minor": 5
}
