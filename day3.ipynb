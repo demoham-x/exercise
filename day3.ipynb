{
 "cells": [
  {
   "cell_type": "code",
   "execution_count": 1,
   "id": "b088e571",
   "metadata": {},
   "outputs": [
    {
     "data": {
      "text/plain": [
       "4"
      ]
     },
     "execution_count": 1,
     "metadata": {},
     "output_type": "execute_result"
    }
   ],
   "source": [
    "l=[1,2,3,4,5,6]\n",
    "l[3]"
   ]
  },
  {
   "cell_type": "code",
   "execution_count": 2,
   "id": "396fd560",
   "metadata": {},
   "outputs": [],
   "source": [
    "l.append(12)"
   ]
  },
  {
   "cell_type": "code",
   "execution_count": 3,
   "id": "04ff2bff",
   "metadata": {},
   "outputs": [
    {
     "data": {
      "text/plain": [
       "[1, 2, 3, 4, 5, 6, 12]"
      ]
     },
     "execution_count": 3,
     "metadata": {},
     "output_type": "execute_result"
    }
   ],
   "source": [
    "l"
   ]
  },
  {
   "cell_type": "code",
   "execution_count": 5,
   "id": "ff71d52b",
   "metadata": {},
   "outputs": [
    {
     "name": "stdout",
     "output_type": "stream",
     "text": [
      "enter the size of the list4\n"
     ]
    }
   ],
   "source": [
    "L= []\n",
    "size=int(input('enter the size of the list'))\n",
    "for i in range(size):\n",
    "    ele=int(input('enter the number'))\n",
    "    \n",
    "    \n"
   ]
  },
  {
   "cell_type": "code",
   "execution_count": 6,
   "id": "ad2c59f5",
   "metadata": {},
   "outputs": [],
   "source": [
    "del l[1:2]"
   ]
  },
  {
   "cell_type": "code",
   "execution_count": 7,
   "id": "fec0aa8a",
   "metadata": {},
   "outputs": [
    {
     "data": {
      "text/plain": [
       "[1, 3, 4, 5, 6, 12]"
      ]
     },
     "execution_count": 7,
     "metadata": {},
     "output_type": "execute_result"
    }
   ],
   "source": [
    "l"
   ]
  },
  {
   "cell_type": "code",
   "execution_count": null,
   "id": "347a6fa5",
   "metadata": {
    "scrolled": true
   },
   "outputs": [],
   "source": [
    "name=input('enter the number')\n",
    "acntno=int(input(\"enter your acnt no:\"))\n",
    "act_type=input(\"enter whether savings or current\")\n",
    "process=input(\"wnat to withdraw or deposit\")\n",
    "acnt balan\n",
    "if process"
   ]
  },
  {
   "cell_type": "code",
   "execution_count": null,
   "id": "7d7ccf9e",
   "metadata": {},
   "outputs": [],
   "source": []
  }
 ],
 "metadata": {
  "kernelspec": {
   "display_name": "Python 3 (ipykernel)",
   "language": "python",
   "name": "python3"
  },
  "language_info": {
   "codemirror_mode": {
    "name": "ipython",
    "version": 3
   },
   "file_extension": ".py",
   "mimetype": "text/x-python",
   "name": "python",
   "nbconvert_exporter": "python",
   "pygments_lexer": "ipython3",
   "version": "3.9.7"
  }
 },
 "nbformat": 4,
 "nbformat_minor": 5
}
