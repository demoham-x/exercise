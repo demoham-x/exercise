{
 "cells": [
  {
   "cell_type": "code",
   "execution_count": 5,
   "id": "094c9b55",
   "metadata": {},
   "outputs": [
    {
     "name": "stdout",
     "output_type": "stream",
     "text": [
      "enter p2\n",
      "enter r0.03\n",
      "enter t2\n"
     ]
    },
    {
     "data": {
      "text/plain": [
       "0.0012"
      ]
     },
     "execution_count": 5,
     "metadata": {},
     "output_type": "execute_result"
    }
   ],
   "source": [
    "import samplelib as se\n",
    "p=int(input(\"enter p\"))\n",
    "r=float(input(\"enter r\"))\n",
    "t=int(input(\"enter t\"))\n",
    "result=se.SI(p,r,t)\n",
    "result"
   ]
  },
  {
   "cell_type": "code",
   "execution_count": 2,
   "id": "f5654400",
   "metadata": {},
   "outputs": [
    {
     "data": {
      "text/plain": [
       "['SI',\n",
       " '__builtins__',\n",
       " '__cached__',\n",
       " '__doc__',\n",
       " '__file__',\n",
       " '__loader__',\n",
       " '__name__',\n",
       " '__package__',\n",
       " '__spec__']"
      ]
     },
     "execution_count": 2,
     "metadata": {},
     "output_type": "execute_result"
    }
   ],
   "source": [
    "dir(samplelib)"
   ]
  },
  {
   "cell_type": "code",
   "execution_count": 22,
   "id": "148c8a8c",
   "metadata": {},
   "outputs": [],
   "source": [
    "def chatroom_status(*users):\n",
    "    if len(users)==0:\n",
    "        return \"no one online\"\n",
    "    elif len(users)==1:\n",
    "        return users[0] + \"  online\"\n",
    "    elif len(users)==2:\n",
    "        return users[0] + \",\" + users[1] + \"  online\"\n",
    "    else :\n",
    "        return user[0] + user[1] + \"and\" + str(len(users)) + \"more online\""
   ]
  },
  {
   "cell_type": "code",
   "execution_count": 23,
   "id": "0d7ecd5c",
   "metadata": {},
   "outputs": [
    {
     "data": {
      "text/plain": [
       "'a,b  online'"
      ]
     },
     "execution_count": 23,
     "metadata": {},
     "output_type": "execute_result"
    }
   ],
   "source": [
    "chatroom_status(\"a\",\"b\")"
   ]
  },
  {
   "cell_type": "code",
   "execution_count": null,
   "id": "db9e5617",
   "metadata": {},
   "outputs": [],
   "source": []
  }
 ],
 "metadata": {
  "kernelspec": {
   "display_name": "Python 3 (ipykernel)",
   "language": "python",
   "name": "python3"
  },
  "language_info": {
   "codemirror_mode": {
    "name": "ipython",
    "version": 3
   },
   "file_extension": ".py",
   "mimetype": "text/x-python",
   "name": "python",
   "nbconvert_exporter": "python",
   "pygments_lexer": "ipython3",
   "version": "3.9.7"
  }
 },
 "nbformat": 4,
 "nbformat_minor": 5
}
