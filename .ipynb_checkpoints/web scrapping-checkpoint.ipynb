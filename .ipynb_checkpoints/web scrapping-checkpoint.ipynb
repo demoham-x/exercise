{
 "cells": [
  {
   "cell_type": "markdown",
   "id": "84d2e488",
   "metadata": {},
   "source": [
    "***web scrapping***\n",
    "    \n",
    "    \n",
    "   **modules:**\n",
    "   \n",
    "   1.urllib -> request() ->urlopen()\n",
    "   \n",
    "   2.Bs4 -> parser -> lxml / html.parser -> beautiful soup -> find(), find_all(), findAll() -> get_text(), text(), string()\n",
    "   \n",
    "   3.pandas-> dataframe ->store into excel or csv"
   ]
  },
  {
   "cell_type": "code",
   "execution_count": null,
   "id": "2e98e318",
   "metadata": {},
   "outputs": [],
   "source": [
    "#adding required moduel to get url\n",
    "import urllib.request"
   ]
  },
  {
   "cell_type": "code",
   "execution_count": null,
   "id": "fb2d01d7",
   "metadata": {},
   "outputs": [],
   "source": [
    "#specify the url\n",
    "url=\"https://en.wikipedia.org/wiki/1999%E2%80%932000_FA_Premier_League\"\n",
    "url"
   ]
  },
  {
   "cell_type": "code",
   "execution_count": null,
   "id": "af8ed526",
   "metadata": {},
   "outputs": [],
   "source": [
    "#requesting a page to extract html content\n",
    "page=urllib.request.urlopen(url)\n",
    "page"
   ]
  },
  {
   "cell_type": "code",
   "execution_count": null,
   "id": "86455ddb",
   "metadata": {},
   "outputs": [],
   "source": [
    "#import beautiful soup 4 to extract page content\n",
    "import bs4"
   ]
  },
  {
   "cell_type": "code",
   "execution_count": null,
   "id": "de0be443",
   "metadata": {},
   "outputs": [],
   "source": [
    "#passing the parser to parse the page content using beautiful soup\n",
    "soup=bs4.BeautifulSoup(page,\"lxml\")\n",
    "print(soup.prettify())"
   ]
  },
  {
   "cell_type": "code",
   "execution_count": null,
   "id": "d02fe8e1",
   "metadata": {},
   "outputs": [],
   "source": [
    "#getting page title\n",
    "soup.title"
   ]
  },
  {
   "cell_type": "code",
   "execution_count": null,
   "id": "6e1390f4",
   "metadata": {},
   "outputs": [],
   "source": [
    "soup.title.name"
   ]
  },
  {
   "cell_type": "code",
   "execution_count": null,
   "id": "a32e3824",
   "metadata": {},
   "outputs": [],
   "source": [
    "soup.title.text"
   ]
  },
  {
   "cell_type": "code",
   "execution_count": null,
   "id": "c3d862f4",
   "metadata": {},
   "outputs": [],
   "source": [
    "soup.title.string"
   ]
  },
  {
   "cell_type": "code",
   "execution_count": null,
   "id": "dfa6de2d",
   "metadata": {},
   "outputs": [],
   "source": [
    "#getting page content\n",
    "heading=soup.find(\"h1\")\n",
    "heading"
   ]
  },
  {
   "cell_type": "code",
   "execution_count": null,
   "id": "9d48c7fc",
   "metadata": {},
   "outputs": [],
   "source": [
    "heading.text"
   ]
  },
  {
   "cell_type": "code",
   "execution_count": null,
   "id": "1243bbf6",
   "metadata": {},
   "outputs": [],
   "source": [
    "#getting paragraph\n",
    "co=soup.find_all(\"p\")\n",
    "co[1].get_text()"
   ]
  },
  {
   "cell_type": "code",
   "execution_count": null,
   "id": "315f2253",
   "metadata": {},
   "outputs": [],
   "source": [
    "#extracting table content\n",
    "tc=soup.find_all(\"table\",class_=\"wikitable sortable\")\n",
    "tc[1]"
   ]
  },
  {
   "cell_type": "code",
   "execution_count": null,
   "id": "8d5fb30f",
   "metadata": {},
   "outputs": [],
   "source": [
    "#extract table row from the given data\n",
    "team=[]\n",
    "manager=[]\n",
    "captain=[]\n",
    "kit=[]\n",
    "sponsor=[]\n",
    "\n",
    "for i in tc[1].find_all(\"tr\"):\n",
    "    td=i.find_all('td')\n",
    "    if len(td)==5:\n",
    "        team.append(td[0].find(text=True))\n",
    "        link1=td[1].findAll('a')\n",
    "        manager.append(link1[1].contents[0])\n",
    "        link2=td[2].findAll('a')\n",
    "        captain.append(link2[1].contents[0])\n",
    "        kit.append(td[3].find(text=True))\n",
    "        sponsor.append(td[4].find(text=True))\n",
    "        "
   ]
  },
  {
   "cell_type": "code",
   "execution_count": null,
   "id": "a4c3c6e5",
   "metadata": {
    "scrolled": true
   },
   "outputs": [],
   "source": [
    "print(team,manager,captain,kit,sponsor)"
   ]
  },
  {
   "cell_type": "code",
   "execution_count": null,
   "id": "ad30a3ac",
   "metadata": {},
   "outputs": [],
   "source": [
    "#to convert into a dataframe\n",
    "\n",
    "d={'team':team,'Manager':manager,'Captian':captain,'Kit':kit,'Sponsor':sponsor}\n",
    "for i in d.items():\n",
    "    print(i)"
   ]
  },
  {
   "cell_type": "code",
   "execution_count": null,
   "id": "7d2b0ec2",
   "metadata": {},
   "outputs": [],
   "source": [
    "#changing into dataframe\n",
    "import pandas as pd\n",
    "df=pd.DataFrame(d)"
   ]
  },
  {
   "cell_type": "code",
   "execution_count": null,
   "id": "69bdfd06",
   "metadata": {},
   "outputs": [],
   "source": [
    "df.head()"
   ]
  },
  {
   "cell_type": "code",
   "execution_count": null,
   "id": "079f7cd7",
   "metadata": {},
   "outputs": [],
   "source": [
    "#change int excel\n",
    "df.to_excel('1999–2000 FA Premier League sponsors data.xlsx')"
   ]
  },
  {
   "cell_type": "code",
   "execution_count": null,
   "id": "48e35a8f",
   "metadata": {},
   "outputs": [],
   "source": [
    "#extracting mangerial changes(team,outgoing manager,date of vacancy,incoming manager,date of appoinment)\n",
    "#extracting table content\n",
    "tc=soup.find_all(\"table\",class_=\"wikitable\")\n",
    "tc[2]"
   ]
  },
  {
   "cell_type": "code",
   "execution_count": null,
   "id": "156d26c6",
   "metadata": {},
   "outputs": [],
   "source": [
    "team=[]\n",
    "outgoing_manager=[]\n",
    "date_of_vaccancy=[]\n",
    "incoming_manager=[]\n",
    "for i in tc[2].find_all(\"tr\"):\n",
    "    td=i.find_all('td')\n",
    "    if len(td)==7:\n",
    "        team.append(td[0].find(text=True))\n",
    "        link1=td[1].findAll('a')\n",
    "        outgoing_manager.append(link1[1].contents[0])\n",
    "        date_of_vaccancy.append(td[3].find(text=True))\n",
    "        link2=td[2].findAll('a')\n",
    "        incoming_manager.append(link1[1].contents[0])\n",
    "        "
   ]
  },
  {
   "cell_type": "code",
   "execution_count": null,
   "id": "d377f035",
   "metadata": {},
   "outputs": [],
   "source": [
    "incoming_manager"
   ]
  },
  {
   "cell_type": "code",
   "execution_count": null,
   "id": "96ea5e03",
   "metadata": {},
   "outputs": [],
   "source": [
    "#into dictonary\n",
    "man_changes={'team':team,'outgoing manager':outgoing_manager,'date of vaccancy':date_of_vaccancy,'incoming manager':incoming_manager}\n",
    "man_changes"
   ]
  },
  {
   "cell_type": "code",
   "execution_count": null,
   "id": "c1e4563d",
   "metadata": {},
   "outputs": [],
   "source": [
    "#int dataframe\n",
    "import pandas as pd\n",
    "man_changes_df=pd.DataFrame(man_changes)\n",
    "man_changes_df"
   ]
  },
  {
   "cell_type": "code",
   "execution_count": null,
   "id": "8484c66c",
   "metadata": {},
   "outputs": [],
   "source": [
    "#into csv\n",
    "man_changes_df.to_csv(\"managerial changes.csv\")"
   ]
  },
  {
   "cell_type": "code",
   "execution_count": null,
   "id": "d89764ac",
   "metadata": {},
   "outputs": [],
   "source": [
    "#into excel\n",
    "man_changes_df.to_excel(\"mangerial changes.xlsx\")"
   ]
  },
  {
   "cell_type": "markdown",
   "id": "c9637f37",
   "metadata": {},
   "source": [
    "**EXTRACTING FROM FLIPKART WEBSITE from a single smartphone page**"
   ]
  },
  {
   "cell_type": "code",
   "execution_count": null,
   "id": "c9d38766",
   "metadata": {},
   "outputs": [],
   "source": [
    "#import urllib.request\n",
    "import requests as reqs"
   ]
  },
  {
   "cell_type": "code",
   "execution_count": null,
   "id": "66ff1603",
   "metadata": {},
   "outputs": [],
   "source": [
    "#webpage link\n",
    "url1=\"https://www.flipkart.com/motorola-g60-moonless-128-gb/p/itma894654fddb46?pid=MOBG9CJ6KRYW4NJT&lid=LSTMOBG9CJ6KRYW4NJTP2I8X0&marketplace=FLIPKART&q=+best+smartphones+under+20000&store=tyy%2F4io&srno=s_1_1&otracker=search&otracker1=search&fm=organic&iid=4165ad44-efaa-4cb2-bf2a-f85d17c70a93.MOBG9CJ6KRYW4NJT.SEARCH&ppt=None&ppn=None&ssid=cqpdpmlr3k0000001648741100908&qH=16fa8f15ebf3d307\"\n",
    "response=reqs.get(url1)"
   ]
  },
  {
   "cell_type": "code",
   "execution_count": null,
   "id": "e75f3682",
   "metadata": {},
   "outputs": [],
   "source": [
    "#opening html webpage\n",
    "import urllib.request as u\n",
    "page1=u.urlopen(url1)\n",
    "page1"
   ]
  },
  {
   "cell_type": "code",
   "execution_count": null,
   "id": "dd6bcbe9",
   "metadata": {},
   "outputs": [],
   "source": [
    "#importimg beautifulsoup\n",
    "import bs4\n",
    "soup1=bs4.BeautifulSoup(page1,\"lxml\")"
   ]
  },
  {
   "cell_type": "code",
   "execution_count": null,
   "id": "f10e5571",
   "metadata": {},
   "outputs": [],
   "source": [
    "print(soup1.prettify())"
   ]
  },
  {
   "cell_type": "code",
   "execution_count": null,
   "id": "e8ab94e5",
   "metadata": {},
   "outputs": [],
   "source": [
    "soup1.title.text"
   ]
  },
  {
   "cell_type": "code",
   "execution_count": null,
   "id": "691d1f43",
   "metadata": {},
   "outputs": [],
   "source": [
    "name=soup1.find(\"span\",class_=\"B_NuCI\")\n",
    "nam=(name.text).split(\"\\xa0\\xa0\")\n",
    "nam=(nam[0]+nam[1])\n",
    "nam"
   ]
  },
  {
   "cell_type": "code",
   "execution_count": null,
   "id": "0d8e4113",
   "metadata": {},
   "outputs": [],
   "source": [
    "review=soup1.find(\"span\",class_=\"_2_R_DZ\")\n",
    "rev=(review.text).split(\"\\xa0&\\xa08,\")[1]\n",
    "rev"
   ]
  },
  {
   "cell_type": "code",
   "execution_count": null,
   "id": "b3fda19b",
   "metadata": {},
   "outputs": [],
   "source": [
    "ratings=soup1.find(\"div\",class_=\"_3LWZlK\").text\n",
    "ratings"
   ]
  },
  {
   "cell_type": "code",
   "execution_count": null,
   "id": "857e78d3",
   "metadata": {
    "scrolled": true
   },
   "outputs": [],
   "source": [
    "price=soup1.find(\"div\",class_=\"_30jeq3 _16Jk6d\").text\n",
    "price"
   ]
  },
  {
   "cell_type": "code",
   "execution_count": null,
   "id": "7dacf7b7",
   "metadata": {},
   "outputs": [],
   "source": [
    "name1=[]\n",
    "name1.append(nam)\n",
    "ratings1=[]\n",
    "ratings1.append(ratings)\n",
    "reviews1=[]\n",
    "reviews1.append(rev)\n",
    "price1=[]\n",
    "price1.append(price)\n",
    "name1"
   ]
  },
  {
   "cell_type": "code",
   "execution_count": null,
   "id": "b2445691",
   "metadata": {},
   "outputs": [],
   "source": [
    "smartphone={\"name\":name1,\"rating\":ratings1,\"reviews\":reviews1,\"price\":price1}\n",
    "smartphone"
   ]
  },
  {
   "cell_type": "code",
   "execution_count": null,
   "id": "9aac5ee5",
   "metadata": {},
   "outputs": [],
   "source": [
    "#change to dataframe\n",
    "import pandas as pd\n",
    "smartphone_df=pd.DataFrame(smartphone)\n",
    "smartphone_df"
   ]
  },
  {
   "cell_type": "markdown",
   "id": "db9edb75",
   "metadata": {},
   "source": [
    "#error code#\n",
    "a=soup.find_all(\"div\",class_=\"_13oc-S\")\n",
    "b=a[1].find_all(\"div\")\n",
    "c=b[0].find_all(\"div\")\n",
    "d=c[0].find_all(\"div\")\n",
    "e=d[9].find_all(\"div\")\n",
    "f=e[0].find_all('div')\n",
    "#for name\n",
    "name=f[0].text\n",
    "#for ratings\n",
    "g=f[1].find_all(\"div\")\n",
    "ratings=g[0].text\n",
    "#for reviews\n",
    "h=f[1].find_all(\"span\")\n",
    "rev=(h[1].text).split(\"\\xa0&\\xa08,\")\n",
    "reviews=rev[1]\n",
    "#for price\n",
    "i=d[15].find_all(\"div\")\n",
    "price=i[3].text\n",
    "print(name,price,ratings,reviews)"
   ]
  },
  {
   "cell_type": "markdown",
   "id": "d51be7d4",
   "metadata": {},
   "source": [
    "***WEB SCRAPPING FROM FLIKART***\n",
    "\n",
    "**->Best smartphones under 20000**"
   ]
  },
  {
   "cell_type": "code",
   "execution_count": null,
   "id": "6d17b6e3",
   "metadata": {},
   "outputs": [],
   "source": [
    "#webpage link\n",
    "import urllib.request\n",
    "url1=\"https://www.flipkart.com/search?q=+best+smartphones+under+20000&otracker=search&otracker1=search&marketplace=FLIPKART&as-show=off&as=off\"\n",
    "page1=urllib.request.urlopen(url1)"
   ]
  },
  {
   "cell_type": "code",
   "execution_count": null,
   "id": "a638c8c9",
   "metadata": {},
   "outputs": [],
   "source": [
    "#parsing with beatiful soup\n",
    "import bs4\n",
    "soup=bs4.BeautifulSoup(page1,\"lxml\")\n",
    "print(soup.prettify())"
   ]
  },
  {
   "cell_type": "code",
   "execution_count": null,
   "id": "ce308481",
   "metadata": {},
   "outputs": [],
   "source": [
    "#extractring to a list\n",
    "mob_name=[]\n",
    "pricing=[]\n",
    "ratings=[]\n",
    "reviews=[]\n",
    "for i in soup.findAll(\"a\",class_=\"_1fQZEK\"):\n",
    "    #for name\n",
    "    n=i.find(\"div\",class_=\"_4rR01T\")\n",
    "    name=n.text\n",
    "    #for reviews\n",
    "    r=i.find('span',class_=\"_2_R_DZ\")\n",
    "    rev=r.text\n",
    "    #for ratings\n",
    "    ra=i.find(\"div\",class_=\"_3LWZlK\")\n",
    "    rat=ra.text\n",
    "    #for price\n",
    "    p=i.find(\"div\",class_=\"_30jeq3 _1_WHN1\")\n",
    "    price=p.text\n",
    "    mob_name.append(name)\n",
    "    pricing.append(price)\n",
    "    ratings.append(rat)\n",
    "    reviews.append(rev)  "
   ]
  },
  {
   "cell_type": "markdown",
   "id": "46381047",
   "metadata": {},
   "source": [
    "for i in soup.findAll(\"a\",class_=\"_1fQZEK\"):\n",
    "    while True:\n",
    "        try:\n",
    "            r=i.find('span',class_=\"_2_R_DZ\")\n",
    "            print(r.text)\n",
    "        except AttributeError:\n",
    "            print(\"none\")\n",
    "            continue\n",
    "            "
   ]
  },
  {
   "cell_type": "code",
   "execution_count": null,
   "id": "9c77889e",
   "metadata": {},
   "outputs": [],
   "source": [
    "print(mob_name,pricing,ratings,reviews)"
   ]
  },
  {
   "cell_type": "code",
   "execution_count": null,
   "id": "eb15ab89",
   "metadata": {
    "scrolled": true
   },
   "outputs": [],
   "source": [
    "#converting to a dict\n",
    "flipkart_smartphones={\"name\":mob_name,\"price\":pricing,\"ratings\":ratings,\"reviews\":reviews}\n",
    "flipkart_smartphones"
   ]
  },
  {
   "cell_type": "code",
   "execution_count": null,
   "id": "e8367c07",
   "metadata": {},
   "outputs": [],
   "source": [
    "#conveting to dataframe\n",
    "import pandas as pd\n",
    "flipkart_smartphones_df=pd.DataFrame(flipkart_smartphones)\n",
    "flipkart_smartphones_df.head()\n"
   ]
  },
  {
   "cell_type": "code",
   "execution_count": null,
   "id": "c40a408e",
   "metadata": {},
   "outputs": [],
   "source": [
    "#saving to a excel file\n",
    "flipkart_smartphones_df.to_excel(\"flikpakrt smartphones under 20000.xlsx\")"
   ]
  },
  {
   "cell_type": "markdown",
   "id": "5ed2988c",
   "metadata": {},
   "source": [
    "***web scrapping flipkart for 6 pages***"
   ]
  },
  {
   "cell_type": "code",
   "execution_count": 33,
   "id": "5dd040c2",
   "metadata": {},
   "outputs": [],
   "source": [
    "#for 6 pages\n",
    "import urllib.request\n",
    "import bs4\n",
    "import pandas as pd\n",
    "url1=\"https://www.flipkart.com/search?q=+best+smartphones+under+20000&otracker=search&otracker1=search&marketplace=FLIPKART&as-show=off&as=off\"\n",
    "page1=urllib.request.urlopen(url1)\n",
    "#parsing with beatiful soup\n",
    "soup=bs4.BeautifulSoup(page1,\"lxml\")\n",
    "mob_name=[]\n",
    "pricing=[]\n",
    "ratings=[]\n",
    "reviews=[]\n",
    "page_list=[]\n",
    "for i in soup.findAll(\"a\",class_=\"_1fQZEK\"):\n",
    "    #for name\n",
    "    n=i.find(\"div\",class_=\"_4rR01T\")\n",
    "    name=n.text\n",
    "    #for reviews\n",
    "    r=i.find('span',class_=\"_2_R_DZ\")\n",
    "    rev=r.text\n",
    "    #for ratings\n",
    "    ra=i.find(\"div\",class_=\"_3LWZlK\")\n",
    "    rat=ra.text\n",
    "    #for price\n",
    "    p=i.find(\"div\",class_=\"_30jeq3 _1_WHN1\")\n",
    "    price=p.text\n",
    "    mob_name.append(name)\n",
    "    pricing.append(price)\n",
    "    ratings.append(rat)\n",
    "    reviews.append(rev)  \n",
    "for we in soup.find_all(\"a\",href=True,class_=\"ge-49M\"):\n",
    "    p=(we['href'])\n",
    "    p1=(\"https://www.flipkart.com\"+p)\n",
    "    page2=urllib.request.urlopen(p1)\n",
    "    soup1=bs4.BeautifulSoup(page2,'lxml')\n",
    "    page_list.append(soup1)    \n",
    "    "
   ]
  },
  {
   "cell_type": "code",
   "execution_count": 34,
   "id": "e403cc90",
   "metadata": {},
   "outputs": [
    {
     "data": {
      "text/plain": [
       "bs4.BeautifulSoup"
      ]
     },
     "execution_count": 34,
     "metadata": {},
     "output_type": "execute_result"
    }
   ],
   "source": [
    "type(page_list[9])"
   ]
  },
  {
   "cell_type": "code",
   "execution_count": 35,
   "id": "71672f05",
   "metadata": {},
   "outputs": [],
   "source": [
    "\n",
    "for x in range(1,5):\n",
    "    for j in page_list[x].findAll(\"a\",class_=\"_1fQZEK\"):\n",
    "        #for name\n",
    "        n=j.find(\"div\",class_=\"_4rR01T\")\n",
    "        name=n.text\n",
    "        #for reviews\n",
    "        r=j.find('span',class_=\"_2_R_DZ\")\n",
    "        rev=r.text\n",
    "        #for ratings\n",
    "        ra=j.find(\"div\",class_=\"_3LWZlK\")\n",
    "        rat=ra.text\n",
    "        #for price\n",
    "        p=j.find(\"div\",class_=\"_30jeq3 _1_WHN1\")\n",
    "        price=p.text\n",
    "        mob_name.append(name)\n",
    "        pricing.append(price)\n",
    "        ratings.append(rat)\n",
    "        reviews.append(rev)  "
   ]
  },
  {
   "cell_type": "code",
   "execution_count": 37,
   "id": "ad8e1262",
   "metadata": {},
   "outputs": [
    {
     "name": "stdout",
     "output_type": "stream",
     "text": [
      "['4.2', '4.2', '4.4', '4.3', '4.3', '4.4', '4.4', '4.5', '4.4', '4.4', '4.2', '4.4', '4.4', '4.4', '4.4', '4.6', '4.4', '4.2', '4.2', '4.3', '4.3', '4.4', '4.4', '4.4', '4.4', '4.3', '4.3', '4.6', '4.3', '4.3', '4.3', '4.1', '4.1', '4.3', '4.3', '4.3', '4.3', '4.2', '4.3', '4.3', '4.3', '4.3', '4', '4.3', '4.4', '4.4', '4.3', '4.3', '4.3', '4.3', '4.3', '4.2', '4.3', '4.3', '4.2', '4', '4.3', '4.3', '4.3', '4.3', '4.3', '4.3', '4.3', '4.3', '4.3', '4.2', '4.2', '4.3', '4.4', '4.3', '4.3', '4.3', '4.4', '4.3', '4.2', '4.3', '4.3', '4.3', '4.3', '4.3', '4.3', '4.2', '4.4', '4.3', '4.2', '3.7', '4.2', '4.2', '4.3', '4.2', '4.3', '4.3', '4.2', '4.3', '4.2', '4.2', '4.2', '4.7', '4.4', '4.7', '4.4', '4.7', '4.7', '4.2', '4.4', '4.2', '4.3', '4.2', '4.3', '4.3', '4.2', '4.4', '4.2', '4.4', '4.3', '4.4', '4.3', '4.3', '4.2', '4.4']\n"
     ]
    }
   ],
   "source": [
    "print(ratings)"
   ]
  },
  {
   "cell_type": "code",
   "execution_count": 40,
   "id": "69638a4f",
   "metadata": {},
   "outputs": [
    {
     "data": {
      "text/plain": [
       "{'name': ['MOTOROLA G60 (Moonless, 128 GB)',\n",
       "  'MOTOROLA G60 (Soft Silver, 128 GB)',\n",
       "  'realme 9 5G (Meteor Black, 128 GB)',\n",
       "  'realme 8 (Cyber Silver, 128 GB)',\n",
       "  'realme 8 (Cyber Black, 128 GB)',\n",
       "  'realme 9 5G (Stargaze White, 128 GB)',\n",
       "  'realme 9 5G (Stargaze White, 64 GB)',\n",
       "  'OPPO K10 (Black Carbon, 128 GB)',\n",
       "  'realme 8 (Cyber Silver, 128 GB)',\n",
       "  'realme 8 (Cyber Black, 128 GB)',\n",
       "  'POCO M3 Pro 5G (Cool Blue, 128 GB)',\n",
       "  'realme 8 (Cyber Silver, 128 GB)',\n",
       "  'realme 9 Pro 5G (Aurora Green, 128 GB)',\n",
       "  'realme 9 Pro 5G (Midnight Black, 128 GB)',\n",
       "  'realme 9 Pro 5G (Sunrise Blue, 128 GB)',\n",
       "  'realme 9i (Prism Black, 128 GB)',\n",
       "  'realme 8s 5G (Universe Purple, 128 GB)',\n",
       "  'POCO M3 Pro 5G (Power Black, 128 GB)',\n",
       "  'POCO M3 Pro 5G (Yellow, 128 GB)',\n",
       "  'MOTOROLA G40 Fusion (Dynamic Gray, 128 GB)',\n",
       "  'realme Narzo 30 5G (Racing Blue, 128 GB)',\n",
       "  'vivo T1 5G (Starlight Black, 128 GB)',\n",
       "  'vivo T1 5G (Rainbow Fantasy, 128 GB)',\n",
       "  'vivo T1 5G (Starlight Black, 128 GB)',\n",
       "  'realme 8s 5G (Universe Blue, 128 GB)',\n",
       "  'realme 9i (Prism Blue, 128 GB)',\n",
       "  'realme 9i (Prism Black, 128 GB)',\n",
       "  'realme 9i (Prism Blue, 128 GB)',\n",
       "  'realme Narzo 30 5G (Racing Silver, 128 GB)',\n",
       "  'MOTOROLA G40 Fusion (Frosted Champagne, 128 GB)',\n",
       "  'REDMI Note 10 Pro (Dark Night, 128 GB)',\n",
       "  'SAMSUNG Galaxy F23 5G (Aqua Blue, 128 GB)',\n",
       "  'SAMSUNG Galaxy F23 5G (Forest Green, 128 GB)',\n",
       "  'REDMI Note 10 Pro (Vintage Bronze, 128 GB)',\n",
       "  'Moto G71 5G (Arctic Blue, 128 GB)',\n",
       "  'vivo T1 5G (Starlight Black, 128 GB)',\n",
       "  'vivo T1 5G (Rainbow Fantasy, 128 GB)',\n",
       "  'MOTOROLA g31 (Meteorite Grey, 128 GB)',\n",
       "  'POCO M4 Pro 5G (Cool Blue, 128 GB)',\n",
       "  'REDMI Note 10S (Shadow Black, 64 GB)',\n",
       "  'Moto G71 5G (Neptune Green, 128 GB)',\n",
       "  'POCO M4 Pro 5G (Power Black, 128 GB)',\n",
       "  'SAMSUNG Galaxy F23 5G (Forest Green, 128 GB)',\n",
       "  'REDMI Note 10S (Deep Sea Blue, 128 GB)',\n",
       "  'realme 9 5G SE (Azure Glow, 128 GB)',\n",
       "  'realme 9 5G SE (Starry Glow, 128 GB)',\n",
       "  'REDMI Note 10T 5G (Metallic Blue, 128 GB)',\n",
       "  'Infinix Note 11s (Mithril Grey, 64 GB)',\n",
       "  'POCO M4 Pro 5G (Yellow, 128 GB)',\n",
       "  'REDMI Note 10S (Frost White, 128 GB)',\n",
       "  'OPPO A54 (Crystal Black, 128 GB)',\n",
       "  'MOTOROLA G51 5G (Indigo Blue, 64 GB)',\n",
       "  'OPPO A53s 5G (Ink Black, 128 GB)',\n",
       "  'Infinix Note 11s Free Fire Edition (Haze Green, 128 GB)',\n",
       "  'MOTOROLA g31 (Baby Blue, 128 GB)',\n",
       "  'SAMSUNG Galaxy F23 5G (Aqua Blue, 128 GB)',\n",
       "  'Redmi Note 11 (Horizon Blue, 64 GB)',\n",
       "  'Redmi Note 11 (Starburst White, 64 GB)',\n",
       "  'Redmi Note 11 (Space Black, 64 GB)',\n",
       "  'REDMI Note 10T 5G (Mint Green, 128 GB)',\n",
       "  'POCO M4 Pro 5G (Cool Blue, 128 GB)',\n",
       "  'REDMI Note 10T 5G (Chromium White, 128 GB)',\n",
       "  'POCO M4 Pro 5G (Yellow, 128 GB)',\n",
       "  'OPPO F17 Pro (Matte Black, 128 GB)',\n",
       "  'OPPO F17 Pro (Metallic White, 128 GB)',\n",
       "  'MOTOROLA G51 5G (Bright Silver, 64 GB)',\n",
       "  'vivo Y53s (Fantastic Rainbow, 128 GB)',\n",
       "  'POCO M4 Pro (Power Black, 128 GB)',\n",
       "  'realme 8i (Space Purple, 128 GB)',\n",
       "  'Infinix Note 11s (Haze Green, 64 GB)',\n",
       "  'Infinix Note 11s (Symphony Cyan, 64 GB)',\n",
       "  'Redmi Note 11 (Starburst White, 128 GB)',\n",
       "  'vivo Y33T (Mirror Black, 128 GB)',\n",
       "  'OPPO A53s 5G (Crystal Blue, 128 GB)',\n",
       "  'SAMSUNG Galaxy M32 (Light Blue, 64 GB)',\n",
       "  'realme Narzo 30 (Racing Blue, 128 GB)',\n",
       "  'realme Narzo 30 (Racing Silver, 128 GB)',\n",
       "  'vivo Y21A (Diamond Glow, 64 GB)',\n",
       "  'Infinix Note 11s Free Fire Edition (Symphony Cyan, 128 GB)',\n",
       "  'REDMI Note 11T 5G (Stardust White, 128 GB)',\n",
       "  'OPPO F17 Pro (Magic Blue, 128 GB)',\n",
       "  'vivo Y53s (Deep Sea Blue, 128 GB)',\n",
       "  'vivo Y73 (Diamond Flare, 128 GB)',\n",
       "  'POCO M4 Pro 5G (Power Black, 128 GB)',\n",
       "  'MOTOROLA G60 (Dynamic Gray, 128 GB)',\n",
       "  'Redmi Note 11S (Space Black, 128 GB)',\n",
       "  'Infinix Note 10 Pro (95° Black, 256 GB)',\n",
       "  'SAMSUNG Galaxy A22 5G (Mint, 128 GB)',\n",
       "  'Infinix Note 11s Free Fire Edition (Mithril Grey, 128 GB)',\n",
       "  'Infinix Zero 5G (Cosmic Black, 128 GB)',\n",
       "  'POCO M4 Pro (Cool Blue, 128 GB)',\n",
       "  'REDMI Note 11T 5G (Stardust White, 128 GB)',\n",
       "  'REDMI Note 10T 5G (Metallic Blue, 64 GB)',\n",
       "  'REDMI Note 10T 5G (Graphite Black, 128 GB)',\n",
       "  'REDMI Note 10S (Shadow Black, 128 GB)',\n",
       "  'Infinix Note 10 Pro (Nordic Secret, 256 GB)',\n",
       "  'REDMI Note 10S (Cosmic Purple, 128 GB)',\n",
       "  'REDMI Note 11S (Space Black, 128 GB)',\n",
       "  'REDMI Note 11S (Horizon Blue, 128 GB)',\n",
       "  'REDMI Note 11S (Polar White, 128 GB)',\n",
       "  'REDMI Note 11S (Polar White, 128 GB)',\n",
       "  'REDMI Note 11S (Space Black, 64 GB)',\n",
       "  'REDMI Note 11S (Horizon Blue, 128 GB)',\n",
       "  'SAMSUNG Galaxy A22 5G (Violet, 128 GB)',\n",
       "  'vivo Y33T (Mid day dream, 128 GB)',\n",
       "  'REDMI Note 10S (Frost White, 128 GB)',\n",
       "  'vivo Y21 (Diamond Glow, 128 GB)',\n",
       "  'Infinix Zero 5G (Skylight Orange, 128 GB)',\n",
       "  'REDMI Note 10 Pro (Vintage Bronze, 128 GB)',\n",
       "  'REDMI Note 11T 5G (Matte black, 64 GB)',\n",
       "  'REDMI Note 10S (Deep Sea Blue, 128 GB)',\n",
       "  'realme 8 (Cyber Black, 128 GB)',\n",
       "  'SAMSUNG Galaxy M12 (Black, 128 GB)',\n",
       "  'OPPO A53s 5G (Ink Black, 128 GB)',\n",
       "  'OPPO A54 (Starry Blue, 128 GB)',\n",
       "  'Redmi Note 11 (Horizon Blue, 64 GB)',\n",
       "  'Redmi Note 11 (Starburst White, 64 GB)',\n",
       "  'Redmi Note 11 (Space Black, 128 GB)',\n",
       "  'SAMSUNG Galaxy M12 (White, 128 GB)',\n",
       "  'OPPO A53s 5G (Crystal Blue, 128 GB)'],\n",
       " 'price': ['₹17,999',\n",
       "  '₹17,999',\n",
       "  '₹17,499',\n",
       "  '₹16,099',\n",
       "  '₹16,099',\n",
       "  '₹17,499',\n",
       "  '₹14,999',\n",
       "  '₹16,990',\n",
       "  '₹18,049',\n",
       "  '₹18,049',\n",
       "  '₹16,499',\n",
       "  '₹17,049',\n",
       "  '₹17,999',\n",
       "  '₹17,999',\n",
       "  '₹17,999',\n",
       "  '₹14,999',\n",
       "  '₹18,049',\n",
       "  '₹16,499',\n",
       "  '₹16,499',\n",
       "  '₹16,699',\n",
       "  '₹17,049',\n",
       "  '₹16,990',\n",
       "  '₹16,990',\n",
       "  '₹15,990',\n",
       "  '₹18,049',\n",
       "  '₹15,999',\n",
       "  '₹15,999',\n",
       "  '₹14,999',\n",
       "  '₹17,049',\n",
       "  '₹16,699',\n",
       "  '₹17,999',\n",
       "  '₹16,999',\n",
       "  '₹16,999',\n",
       "  '₹17,999',\n",
       "  '₹19,049',\n",
       "  '₹19,990',\n",
       "  '₹19,990',\n",
       "  '₹15,099',\n",
       "  '₹16,999',\n",
       "  '₹14,499',\n",
       "  '₹19,049',\n",
       "  '₹16,999',\n",
       "  '₹15,999',\n",
       "  '₹14,999',\n",
       "  '₹19,999',\n",
       "  '₹19,999',\n",
       "  '₹15,999',\n",
       "  '₹16,999',\n",
       "  '₹16,999',\n",
       "  '₹14,999',\n",
       "  '₹15,990',\n",
       "  '₹15,149',\n",
       "  '₹17,990',\n",
       "  '₹18,999',\n",
       "  '₹15,099',\n",
       "  '₹15,999',\n",
       "  '₹14,654',\n",
       "  '₹14,985',\n",
       "  '₹14,672',\n",
       "  '₹15,999',\n",
       "  '₹18,999',\n",
       "  '₹15,999',\n",
       "  '₹18,999',\n",
       "  '₹19,990',\n",
       "  '₹19,990',\n",
       "  '₹15,149',\n",
       "  '₹16,490',\n",
       "  '₹16,499',\n",
       "  '₹15,999',\n",
       "  '₹16,999',\n",
       "  '₹16,999',\n",
       "  '₹16,349',\n",
       "  '₹18,990',\n",
       "  '₹17,990',\n",
       "  '₹14,270',\n",
       "  '₹15,549',\n",
       "  '₹15,549',\n",
       "  '₹13,349',\n",
       "  '₹18,999',\n",
       "  '₹17,739',\n",
       "  '₹19,990',\n",
       "  '₹16,490',\n",
       "  '₹19,280',\n",
       "  '₹18,999',\n",
       "  '₹18,099',\n",
       "  '₹19,799',\n",
       "  '₹16,999',\n",
       "  '₹17,969',\n",
       "  '₹18,999',\n",
       "  '₹19,999',\n",
       "  '₹16,499',\n",
       "  '₹19,625',\n",
       "  '₹14,329',\n",
       "  '₹16,800',\n",
       "  '₹16,499',\n",
       "  '₹16,999',\n",
       "  '₹16,499',\n",
       "  '₹18,526',\n",
       "  '₹19,478',\n",
       "  '₹18,780',\n",
       "  '₹19,990',\n",
       "  '₹19,999',\n",
       "  '₹18,708',\n",
       "  '₹18,375',\n",
       "  '₹18,990',\n",
       "  '₹16,499',\n",
       "  '₹17,990',\n",
       "  '₹19,999',\n",
       "  '₹16,984',\n",
       "  '₹16,490',\n",
       "  '₹16,499',\n",
       "  '₹16,499',\n",
       "  '₹12,505',\n",
       "  '₹15,990',\n",
       "  '₹15,990',\n",
       "  '₹13,400',\n",
       "  '₹14,880',\n",
       "  '₹15,885',\n",
       "  '₹12,549',\n",
       "  '₹15,990'],\n",
       " 'ratings': ['4.2',\n",
       "  '4.2',\n",
       "  '4.4',\n",
       "  '4.3',\n",
       "  '4.3',\n",
       "  '4.4',\n",
       "  '4.4',\n",
       "  '4.5',\n",
       "  '4.4',\n",
       "  '4.4',\n",
       "  '4.2',\n",
       "  '4.4',\n",
       "  '4.4',\n",
       "  '4.4',\n",
       "  '4.4',\n",
       "  '4.6',\n",
       "  '4.4',\n",
       "  '4.2',\n",
       "  '4.2',\n",
       "  '4.3',\n",
       "  '4.3',\n",
       "  '4.4',\n",
       "  '4.4',\n",
       "  '4.4',\n",
       "  '4.4',\n",
       "  '4.3',\n",
       "  '4.3',\n",
       "  '4.6',\n",
       "  '4.3',\n",
       "  '4.3',\n",
       "  '4.3',\n",
       "  '4.1',\n",
       "  '4.1',\n",
       "  '4.3',\n",
       "  '4.3',\n",
       "  '4.3',\n",
       "  '4.3',\n",
       "  '4.2',\n",
       "  '4.3',\n",
       "  '4.3',\n",
       "  '4.3',\n",
       "  '4.3',\n",
       "  '4',\n",
       "  '4.3',\n",
       "  '4.4',\n",
       "  '4.4',\n",
       "  '4.3',\n",
       "  '4.3',\n",
       "  '4.3',\n",
       "  '4.3',\n",
       "  '4.3',\n",
       "  '4.2',\n",
       "  '4.3',\n",
       "  '4.3',\n",
       "  '4.2',\n",
       "  '4',\n",
       "  '4.3',\n",
       "  '4.3',\n",
       "  '4.3',\n",
       "  '4.3',\n",
       "  '4.3',\n",
       "  '4.3',\n",
       "  '4.3',\n",
       "  '4.3',\n",
       "  '4.3',\n",
       "  '4.2',\n",
       "  '4.2',\n",
       "  '4.3',\n",
       "  '4.4',\n",
       "  '4.3',\n",
       "  '4.3',\n",
       "  '4.3',\n",
       "  '4.4',\n",
       "  '4.3',\n",
       "  '4.2',\n",
       "  '4.3',\n",
       "  '4.3',\n",
       "  '4.3',\n",
       "  '4.3',\n",
       "  '4.3',\n",
       "  '4.3',\n",
       "  '4.2',\n",
       "  '4.4',\n",
       "  '4.3',\n",
       "  '4.2',\n",
       "  '3.7',\n",
       "  '4.2',\n",
       "  '4.2',\n",
       "  '4.3',\n",
       "  '4.2',\n",
       "  '4.3',\n",
       "  '4.3',\n",
       "  '4.2',\n",
       "  '4.3',\n",
       "  '4.2',\n",
       "  '4.2',\n",
       "  '4.2',\n",
       "  '4.7',\n",
       "  '4.4',\n",
       "  '4.7',\n",
       "  '4.4',\n",
       "  '4.7',\n",
       "  '4.7',\n",
       "  '4.2',\n",
       "  '4.4',\n",
       "  '4.2',\n",
       "  '4.3',\n",
       "  '4.2',\n",
       "  '4.3',\n",
       "  '4.3',\n",
       "  '4.2',\n",
       "  '4.4',\n",
       "  '4.2',\n",
       "  '4.4',\n",
       "  '4.3',\n",
       "  '4.4',\n",
       "  '4.3',\n",
       "  '4.3',\n",
       "  '4.2',\n",
       "  '4.4'],\n",
       " 'reviews': ['86,937 Ratings\\xa0&\\xa08,821 Reviews',\n",
       "  '86,937 Ratings\\xa0&\\xa08,821 Reviews',\n",
       "  '594 Ratings\\xa0&\\xa043 Reviews',\n",
       "  '88,158 Ratings\\xa0&\\xa08,193 Reviews',\n",
       "  '88,158 Ratings\\xa0&\\xa08,193 Reviews',\n",
       "  '594 Ratings\\xa0&\\xa043 Reviews',\n",
       "  '2,013 Ratings\\xa0&\\xa0171 Reviews',\n",
       "  '37 Ratings\\xa0&\\xa03 Reviews',\n",
       "  '88,850 Ratings\\xa0&\\xa07,893 Reviews',\n",
       "  '88,850 Ratings\\xa0&\\xa07,893 Reviews',\n",
       "  '30,554 Ratings\\xa0&\\xa02,502 Reviews',\n",
       "  '1,02,804 Ratings\\xa0&\\xa08,567 Reviews',\n",
       "  '13,460 Ratings\\xa0&\\xa01,378 Reviews',\n",
       "  '13,460 Ratings\\xa0&\\xa01,378 Reviews',\n",
       "  '13,460 Ratings\\xa0&\\xa01,378 Reviews',\n",
       "  '24,686 Ratings\\xa0&\\xa01,254 Reviews',\n",
       "  '52,544 Ratings\\xa0&\\xa04,579 Reviews',\n",
       "  '30,554 Ratings\\xa0&\\xa02,502 Reviews',\n",
       "  '30,554 Ratings\\xa0&\\xa02,502 Reviews',\n",
       "  '41,761 Ratings\\xa0&\\xa04,529 Reviews',\n",
       "  '68,201 Ratings\\xa0&\\xa06,075 Reviews',\n",
       "  '21,707 Ratings\\xa0&\\xa02,109 Reviews',\n",
       "  '21,707 Ratings\\xa0&\\xa02,109 Reviews',\n",
       "  '13,336 Ratings\\xa0&\\xa01,243 Reviews',\n",
       "  '52,544 Ratings\\xa0&\\xa04,579 Reviews',\n",
       "  '5,459 Ratings\\xa0&\\xa0485 Reviews',\n",
       "  '5,459 Ratings\\xa0&\\xa0485 Reviews',\n",
       "  '24,686 Ratings\\xa0&\\xa01,254 Reviews',\n",
       "  '68,201 Ratings\\xa0&\\xa06,075 Reviews',\n",
       "  '41,761 Ratings\\xa0&\\xa04,529 Reviews',\n",
       "  '6,227 Ratings\\xa0&\\xa0521 Reviews',\n",
       "  '4,469 Ratings\\xa0&\\xa0451 Reviews',\n",
       "  '4,469 Ratings\\xa0&\\xa0451 Reviews',\n",
       "  '6,227 Ratings\\xa0&\\xa0521 Reviews',\n",
       "  '3,271 Ratings\\xa0&\\xa0513 Reviews',\n",
       "  '2,812 Ratings\\xa0&\\xa0304 Reviews',\n",
       "  '2,812 Ratings\\xa0&\\xa0304 Reviews',\n",
       "  '2,345 Ratings\\xa0&\\xa0330 Reviews',\n",
       "  '3,804 Ratings\\xa0&\\xa0339 Reviews',\n",
       "  '16,655 Ratings\\xa0&\\xa01,231 Reviews',\n",
       "  '3,271 Ratings\\xa0&\\xa0513 Reviews',\n",
       "  '3,804 Ratings\\xa0&\\xa0339 Reviews',\n",
       "  '995 Ratings\\xa0&\\xa0115 Reviews',\n",
       "  '16,655 Ratings\\xa0&\\xa01,231 Reviews',\n",
       "  '675 Ratings\\xa0&\\xa091 Reviews',\n",
       "  '675 Ratings\\xa0&\\xa091 Reviews',\n",
       "  '1,019 Ratings\\xa0&\\xa066 Reviews',\n",
       "  '6,187 Ratings\\xa0&\\xa0882 Reviews',\n",
       "  '3,804 Ratings\\xa0&\\xa0339 Reviews',\n",
       "  '16,655 Ratings\\xa0&\\xa01,231 Reviews',\n",
       "  '2,935 Ratings\\xa0&\\xa0161 Reviews',\n",
       "  '4,718 Ratings\\xa0&\\xa0703 Reviews',\n",
       "  '17,293 Ratings\\xa0&\\xa01,423 Reviews',\n",
       "  '3,270 Ratings\\xa0&\\xa0483 Reviews',\n",
       "  '2,345 Ratings\\xa0&\\xa0330 Reviews',\n",
       "  '995 Ratings\\xa0&\\xa0115 Reviews',\n",
       "  '581 Ratings\\xa0&\\xa055 Reviews',\n",
       "  '581 Ratings\\xa0&\\xa055 Reviews',\n",
       "  '581 Ratings\\xa0&\\xa055 Reviews',\n",
       "  '1,019 Ratings\\xa0&\\xa066 Reviews',\n",
       "  '550 Ratings\\xa0&\\xa061 Reviews',\n",
       "  '1,019 Ratings\\xa0&\\xa066 Reviews',\n",
       "  '550 Ratings\\xa0&\\xa061 Reviews',\n",
       "  '25,772 Ratings\\xa0&\\xa02,161 Reviews',\n",
       "  '25,772 Ratings\\xa0&\\xa02,161 Reviews',\n",
       "  '4,718 Ratings\\xa0&\\xa0703 Reviews',\n",
       "  '2,661 Ratings\\xa0&\\xa0202 Reviews',\n",
       "  '2,972 Ratings\\xa0&\\xa0288 Reviews',\n",
       "  '63,969 Ratings\\xa0&\\xa04,515 Reviews',\n",
       "  '6,187 Ratings\\xa0&\\xa0882 Reviews',\n",
       "  '6,187 Ratings\\xa0&\\xa0882 Reviews',\n",
       "  '581 Ratings\\xa0&\\xa055 Reviews',\n",
       "  '367 Ratings\\xa0&\\xa034 Reviews',\n",
       "  '17,293 Ratings\\xa0&\\xa01,423 Reviews',\n",
       "  '1,535 Ratings\\xa0&\\xa0150 Reviews',\n",
       "  '67,641 Ratings\\xa0&\\xa05,568 Reviews',\n",
       "  '67,641 Ratings\\xa0&\\xa05,568 Reviews',\n",
       "  '250 Ratings\\xa0&\\xa016 Reviews',\n",
       "  '3,270 Ratings\\xa0&\\xa0483 Reviews',\n",
       "  '1,216 Ratings\\xa0&\\xa096 Reviews',\n",
       "  '25,772 Ratings\\xa0&\\xa02,161 Reviews',\n",
       "  '2,661 Ratings\\xa0&\\xa0202 Reviews',\n",
       "  '8,511 Ratings\\xa0&\\xa0783 Reviews',\n",
       "  '550 Ratings\\xa0&\\xa061 Reviews',\n",
       "  '86,937 Ratings\\xa0&\\xa08,821 Reviews',\n",
       "  '10 Ratings\\xa0&\\xa00 Reviews',\n",
       "  '8,616 Ratings\\xa0&\\xa01,150 Reviews',\n",
       "  '1,350 Ratings\\xa0&\\xa0125 Reviews',\n",
       "  '3,270 Ratings\\xa0&\\xa0483 Reviews',\n",
       "  '1,470 Ratings\\xa0&\\xa0270 Reviews',\n",
       "  '2,972 Ratings\\xa0&\\xa0288 Reviews',\n",
       "  '581 Ratings\\xa0&\\xa055 Reviews',\n",
       "  '1,688 Ratings\\xa0&\\xa0117 Reviews',\n",
       "  '1,019 Ratings\\xa0&\\xa066 Reviews',\n",
       "  '2,749 Ratings\\xa0&\\xa0250 Reviews',\n",
       "  '8,616 Ratings\\xa0&\\xa01,150 Reviews',\n",
       "  '2,749 Ratings\\xa0&\\xa0250 Reviews',\n",
       "  '3 Ratings\\xa0&\\xa00 Reviews',\n",
       "  '9 Ratings\\xa0&\\xa00 Reviews',\n",
       "  '3 Ratings\\xa0&\\xa00 Reviews',\n",
       "  '9 Ratings\\xa0&\\xa00 Reviews',\n",
       "  '3 Ratings\\xa0&\\xa00 Reviews',\n",
       "  '3 Ratings\\xa0&\\xa00 Reviews',\n",
       "  '1,350 Ratings\\xa0&\\xa0125 Reviews',\n",
       "  '367 Ratings\\xa0&\\xa034 Reviews',\n",
       "  '2,749 Ratings\\xa0&\\xa0250 Reviews',\n",
       "  '10,471 Ratings\\xa0&\\xa0799 Reviews',\n",
       "  '1,470 Ratings\\xa0&\\xa0270 Reviews',\n",
       "  '6,227 Ratings\\xa0&\\xa0521 Reviews',\n",
       "  '1,216 Ratings\\xa0&\\xa096 Reviews',\n",
       "  '2,749 Ratings\\xa0&\\xa0250 Reviews',\n",
       "  '1,02,804 Ratings\\xa0&\\xa08,567 Reviews',\n",
       "  '4,449 Ratings\\xa0&\\xa0302 Reviews',\n",
       "  '66,021 Ratings\\xa0&\\xa04,679 Reviews',\n",
       "  '2,935 Ratings\\xa0&\\xa0161 Reviews',\n",
       "  '296 Ratings\\xa0&\\xa026 Reviews',\n",
       "  '581 Ratings\\xa0&\\xa055 Reviews',\n",
       "  '581 Ratings\\xa0&\\xa055 Reviews',\n",
       "  '4,449 Ratings\\xa0&\\xa0302 Reviews',\n",
       "  '66,021 Ratings\\xa0&\\xa04,679 Reviews']}"
      ]
     },
     "execution_count": 40,
     "metadata": {},
     "output_type": "execute_result"
    }
   ],
   "source": [
    "#converting to a dict\n",
    "flipkart_smartphones_for_6_pg={\"name\":mob_name,\"price\":pricing,\"ratings\":ratings,\"reviews\":reviews}\n",
    "flipkart_smartphones_for_6_pg"
   ]
  },
  {
   "cell_type": "code",
   "execution_count": 41,
   "id": "107a90f1",
   "metadata": {},
   "outputs": [
    {
     "data": {
      "text/html": [
       "<div>\n",
       "<style scoped>\n",
       "    .dataframe tbody tr th:only-of-type {\n",
       "        vertical-align: middle;\n",
       "    }\n",
       "\n",
       "    .dataframe tbody tr th {\n",
       "        vertical-align: top;\n",
       "    }\n",
       "\n",
       "    .dataframe thead th {\n",
       "        text-align: right;\n",
       "    }\n",
       "</style>\n",
       "<table border=\"1\" class=\"dataframe\">\n",
       "  <thead>\n",
       "    <tr style=\"text-align: right;\">\n",
       "      <th></th>\n",
       "      <th>name</th>\n",
       "      <th>price</th>\n",
       "      <th>ratings</th>\n",
       "      <th>reviews</th>\n",
       "    </tr>\n",
       "  </thead>\n",
       "  <tbody>\n",
       "    <tr>\n",
       "      <th>0</th>\n",
       "      <td>MOTOROLA G60 (Moonless, 128 GB)</td>\n",
       "      <td>₹17,999</td>\n",
       "      <td>4.2</td>\n",
       "      <td>86,937 Ratings &amp; 8,821 Reviews</td>\n",
       "    </tr>\n",
       "    <tr>\n",
       "      <th>1</th>\n",
       "      <td>MOTOROLA G60 (Soft Silver, 128 GB)</td>\n",
       "      <td>₹17,999</td>\n",
       "      <td>4.2</td>\n",
       "      <td>86,937 Ratings &amp; 8,821 Reviews</td>\n",
       "    </tr>\n",
       "    <tr>\n",
       "      <th>2</th>\n",
       "      <td>realme 9 5G (Meteor Black, 128 GB)</td>\n",
       "      <td>₹17,499</td>\n",
       "      <td>4.4</td>\n",
       "      <td>594 Ratings &amp; 43 Reviews</td>\n",
       "    </tr>\n",
       "    <tr>\n",
       "      <th>3</th>\n",
       "      <td>realme 8 (Cyber Silver, 128 GB)</td>\n",
       "      <td>₹16,099</td>\n",
       "      <td>4.3</td>\n",
       "      <td>88,158 Ratings &amp; 8,193 Reviews</td>\n",
       "    </tr>\n",
       "    <tr>\n",
       "      <th>4</th>\n",
       "      <td>realme 8 (Cyber Black, 128 GB)</td>\n",
       "      <td>₹16,099</td>\n",
       "      <td>4.3</td>\n",
       "      <td>88,158 Ratings &amp; 8,193 Reviews</td>\n",
       "    </tr>\n",
       "  </tbody>\n",
       "</table>\n",
       "</div>"
      ],
      "text/plain": [
       "                                 name    price ratings  \\\n",
       "0     MOTOROLA G60 (Moonless, 128 GB)  ₹17,999     4.2   \n",
       "1  MOTOROLA G60 (Soft Silver, 128 GB)  ₹17,999     4.2   \n",
       "2  realme 9 5G (Meteor Black, 128 GB)  ₹17,499     4.4   \n",
       "3     realme 8 (Cyber Silver, 128 GB)  ₹16,099     4.3   \n",
       "4      realme 8 (Cyber Black, 128 GB)  ₹16,099     4.3   \n",
       "\n",
       "                          reviews  \n",
       "0  86,937 Ratings & 8,821 Reviews  \n",
       "1  86,937 Ratings & 8,821 Reviews  \n",
       "2        594 Ratings & 43 Reviews  \n",
       "3  88,158 Ratings & 8,193 Reviews  \n",
       "4  88,158 Ratings & 8,193 Reviews  "
      ]
     },
     "execution_count": 41,
     "metadata": {},
     "output_type": "execute_result"
    }
   ],
   "source": [
    "#conveting to dataframe\n",
    "import pandas as pd\n",
    "flipkart_smartphones_6_pg_df=pd.DataFrame(flipkart_smartphones_for_6_pg)\n",
    "flipkart_smartphones_6_pg_df.head()\n"
   ]
  },
  {
   "cell_type": "code",
   "execution_count": 42,
   "id": "a6280a5a",
   "metadata": {},
   "outputs": [],
   "source": [
    "#saving to a excel file\n",
    "flipkart_smartphones_6_pg_df.to_excel(\"flikpakrt smartphones under 20000 for 6 pages.xlsx\")"
   ]
  },
  {
   "cell_type": "code",
   "execution_count": null,
   "id": "8b69facf",
   "metadata": {},
   "outputs": [],
   "source": []
  }
 ],
 "metadata": {
  "kernelspec": {
   "display_name": "Python 3 (ipykernel)",
   "language": "python",
   "name": "python3"
  },
  "language_info": {
   "codemirror_mode": {
    "name": "ipython",
    "version": 3
   },
   "file_extension": ".py",
   "mimetype": "text/x-python",
   "name": "python",
   "nbconvert_exporter": "python",
   "pygments_lexer": "ipython3",
   "version": "3.9.7"
  }
 },
 "nbformat": 4,
 "nbformat_minor": 5
}
