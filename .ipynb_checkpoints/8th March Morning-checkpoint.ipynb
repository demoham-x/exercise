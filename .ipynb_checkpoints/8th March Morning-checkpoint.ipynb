{
 "cells": [
  {
   "cell_type": "code",
   "execution_count": 1,
   "id": "8e8a7760",
   "metadata": {},
   "outputs": [
    {
     "name": "stdout",
     "output_type": "stream",
     "text": [
      "computer is an electronic \n",
      "   device which works on input \n",
      "and gives output\n"
     ]
    }
   ],
   "source": [
    "st='''computer is an electronic \n",
    "   device which works on input \n",
    "and gives output'''\n",
    "\n",
    "print(st)"
   ]
  },
  {
   "cell_type": "code",
   "execution_count": null,
   "id": "83dc0a8c",
   "metadata": {},
   "outputs": [],
   "source": [
    "s=\"computer\"\n",
    "Slicing : \n",
    "    forward slicing  s[1:5] or s[3:]\n",
    "    backward slicing s[-3:-1] or s[:4]\n",
    "    full slicing  s[:]\n",
    "    reverse slicing s[::-1]\n",
    "    "
   ]
  },
  {
   "cell_type": "code",
   "execution_count": 1,
   "id": "2af408ad",
   "metadata": {},
   "outputs": [
    {
     "data": {
      "text/plain": [
       "''"
      ]
     },
     "execution_count": 1,
     "metadata": {},
     "output_type": "execute_result"
    }
   ],
   "source": [
    "s=\"computer world\"\n",
    "s[-2:-7]"
   ]
  },
  {
   "cell_type": "code",
   "execution_count": 3,
   "id": "828e8b35",
   "metadata": {},
   "outputs": [
    {
     "data": {
      "text/plain": [
       "'r wor'"
      ]
     },
     "execution_count": 3,
     "metadata": {},
     "output_type": "execute_result"
    }
   ],
   "source": [
    "s[-7:-2]"
   ]
  },
  {
   "cell_type": "code",
   "execution_count": 4,
   "id": "813f0e52",
   "metadata": {},
   "outputs": [
    {
     "data": {
      "text/plain": [
       "''"
      ]
     },
     "execution_count": 4,
     "metadata": {},
     "output_type": "execute_result"
    }
   ],
   "source": [
    "s[-5:2]"
   ]
  },
  {
   "cell_type": "code",
   "execution_count": 5,
   "id": "3c2830db",
   "metadata": {},
   "outputs": [
    {
     "data": {
      "text/plain": [
       "'mputer '"
      ]
     },
     "execution_count": 5,
     "metadata": {},
     "output_type": "execute_result"
    }
   ],
   "source": [
    "s[2:-5]"
   ]
  },
  {
   "cell_type": "code",
   "execution_count": 6,
   "id": "521a84f9",
   "metadata": {},
   "outputs": [
    {
     "data": {
      "text/plain": [
       "'mw'"
      ]
     },
     "execution_count": 6,
     "metadata": {},
     "output_type": "execute_result"
    }
   ],
   "source": [
    "s[2::7]"
   ]
  },
  {
   "cell_type": "code",
   "execution_count": 7,
   "id": "3f82e35d",
   "metadata": {},
   "outputs": [
    {
     "data": {
      "text/plain": [
       "'wrtpo'"
      ]
     },
     "execution_count": 7,
     "metadata": {},
     "output_type": "execute_result"
    }
   ],
   "source": [
    "s[-5::-2]"
   ]
  },
  {
   "cell_type": "code",
   "execution_count": 8,
   "id": "2f9b813d",
   "metadata": {},
   "outputs": [
    {
     "data": {
      "text/plain": [
       "'dlrow retupmoc'"
      ]
     },
     "execution_count": 8,
     "metadata": {},
     "output_type": "execute_result"
    }
   ],
   "source": [
    "s[::-1]"
   ]
  },
  {
   "cell_type": "code",
   "execution_count": 9,
   "id": "90626453",
   "metadata": {},
   "outputs": [
    {
     "data": {
      "text/plain": [
       "[2, 5, 1, 8, 'abc', 6.78]"
      ]
     },
     "execution_count": 9,
     "metadata": {},
     "output_type": "execute_result"
    }
   ],
   "source": [
    "#list \n",
    "l=[]\n",
    "l=[2,5,1,8,\"abc\",6.78]\n",
    "l"
   ]
  },
  {
   "cell_type": "code",
   "execution_count": 10,
   "id": "6b171a5b",
   "metadata": {},
   "outputs": [
    {
     "data": {
      "text/plain": [
       "8"
      ]
     },
     "execution_count": 10,
     "metadata": {},
     "output_type": "execute_result"
    }
   ],
   "source": [
    "l[3]"
   ]
  },
  {
   "cell_type": "code",
   "execution_count": 11,
   "id": "00a7c5a6",
   "metadata": {},
   "outputs": [
    {
     "data": {
      "text/plain": [
       "[8, 'abc', 6.78]"
      ]
     },
     "execution_count": 11,
     "metadata": {},
     "output_type": "execute_result"
    }
   ],
   "source": [
    "l[3:8]"
   ]
  },
  {
   "cell_type": "code",
   "execution_count": 12,
   "id": "cb5d257f",
   "metadata": {},
   "outputs": [
    {
     "data": {
      "text/plain": [
       "'computer world'"
      ]
     },
     "execution_count": 12,
     "metadata": {},
     "output_type": "execute_result"
    }
   ],
   "source": [
    "s"
   ]
  },
  {
   "cell_type": "code",
   "execution_count": 13,
   "id": "1cd0dd80",
   "metadata": {},
   "outputs": [
    {
     "ename": "TypeError",
     "evalue": "'str' object does not support item assignment",
     "output_type": "error",
     "traceback": [
      "\u001b[1;31m---------------------------------------------------------------------------\u001b[0m",
      "\u001b[1;31mTypeError\u001b[0m                                 Traceback (most recent call last)",
      "\u001b[1;32m<ipython-input-13-d2a76c38d972>\u001b[0m in \u001b[0;36m<module>\u001b[1;34m\u001b[0m\n\u001b[1;32m----> 1\u001b[1;33m \u001b[0ms\u001b[0m\u001b[1;33m[\u001b[0m\u001b[1;36m2\u001b[0m\u001b[1;33m]\u001b[0m\u001b[1;33m=\u001b[0m\u001b[1;34m\"g\"\u001b[0m\u001b[1;33m\u001b[0m\u001b[1;33m\u001b[0m\u001b[0m\n\u001b[0m",
      "\u001b[1;31mTypeError\u001b[0m: 'str' object does not support item assignment"
     ]
    }
   ],
   "source": [
    "s[2]=\"g\""
   ]
  },
  {
   "cell_type": "code",
   "execution_count": 14,
   "id": "0d1d22f0",
   "metadata": {},
   "outputs": [
    {
     "data": {
      "text/plain": [
       "[2, 5, 56, 8, 'abc', 6.78]"
      ]
     },
     "execution_count": 14,
     "metadata": {},
     "output_type": "execute_result"
    }
   ],
   "source": [
    "l[2]=56\n",
    "l"
   ]
  },
  {
   "cell_type": "code",
   "execution_count": 15,
   "id": "05b2d3b1",
   "metadata": {},
   "outputs": [
    {
     "data": {
      "text/plain": [
       "(3, 5, 1, 7, 5)"
      ]
     },
     "execution_count": 15,
     "metadata": {},
     "output_type": "execute_result"
    }
   ],
   "source": [
    "t=() #empty \n",
    "t=(3,5,1,7,5)\n",
    "t"
   ]
  },
  {
   "cell_type": "code",
   "execution_count": 16,
   "id": "89075a60",
   "metadata": {},
   "outputs": [
    {
     "data": {
      "text/plain": [
       "(5, 1, 7)"
      ]
     },
     "execution_count": 16,
     "metadata": {},
     "output_type": "execute_result"
    }
   ],
   "source": [
    "t[1:4]"
   ]
  },
  {
   "cell_type": "code",
   "execution_count": 17,
   "id": "ddc644e2",
   "metadata": {},
   "outputs": [
    {
     "ename": "TypeError",
     "evalue": "'tuple' object does not support item assignment",
     "output_type": "error",
     "traceback": [
      "\u001b[1;31m---------------------------------------------------------------------------\u001b[0m",
      "\u001b[1;31mTypeError\u001b[0m                                 Traceback (most recent call last)",
      "\u001b[1;32m<ipython-input-17-449542a11179>\u001b[0m in \u001b[0;36m<module>\u001b[1;34m\u001b[0m\n\u001b[1;32m----> 1\u001b[1;33m \u001b[0mt\u001b[0m\u001b[1;33m[\u001b[0m\u001b[1;36m2\u001b[0m\u001b[1;33m]\u001b[0m\u001b[1;33m=\u001b[0m\u001b[1;36m56\u001b[0m\u001b[1;33m\u001b[0m\u001b[1;33m\u001b[0m\u001b[0m\n\u001b[0m",
      "\u001b[1;31mTypeError\u001b[0m: 'tuple' object does not support item assignment"
     ]
    }
   ],
   "source": [
    "t[2]=56"
   ]
  },
  {
   "cell_type": "code",
   "execution_count": null,
   "id": "227cf8ff",
   "metadata": {},
   "outputs": [],
   "source": [
    "#python 3 statements :\n",
    "conditional statement \n",
    "looping statement\n",
    "control statement"
   ]
  },
  {
   "cell_type": "code",
   "execution_count": 20,
   "id": "9450a824",
   "metadata": {},
   "outputs": [
    {
     "name": "stdout",
     "output_type": "stream",
     "text": [
      "enter number5\n",
      "enter second number8\n",
      "enter your choice of operation@\n",
      "invalid choice!!\n"
     ]
    }
   ],
   "source": [
    "a=int(input(\"enter number\"))\n",
    "b=int(input(\"enter second number\"))\n",
    "choice=input(\"enter your choice of operation\")\n",
    "if choice==\"+\":  #identation operator\n",
    "    print(\"sum=\",a+b)\n",
    "elif choice==\"-\":\n",
    "    print(\"sub=\",a-b)\n",
    "elif choice==\"*\":  #identation operator\n",
    "    print(\"multiplication=\",a*b)\n",
    "elif choice==\"/\":\n",
    "    print(\"division=\",a/b)\n",
    "else:\n",
    "    print(\"invalid choice!!\")\n"
   ]
  },
  {
   "cell_type": "code",
   "execution_count": null,
   "id": "923de7a3",
   "metadata": {},
   "outputs": [],
   "source": [
    "case : \n",
    "    age>=20 \n",
    "        marks>=75 then enrollement allowed\n",
    "    age>=20 \n",
    "       marks<=70 then check for concession\n",
    "    age<=20 then no enrollment \n",
    "    "
   ]
  },
  {
   "cell_type": "code",
   "execution_count": null,
   "id": "bdd3857f",
   "metadata": {},
   "outputs": [],
   "source": [
    "age=int(input(\"enter age\"))\n",
    "if age>=20:\n",
    "    marks=int(input(\"enter marks\"))\n",
    "    if marks>=70:\n",
    "        print(\"enrollment allowed \")\n",
    "    else:\n",
    "        print(\"concession check\")\n",
    "else:\n",
    "    print(\"no enrollment\")"
   ]
  },
  {
   "cell_type": "code",
   "execution_count": null,
   "id": "f5a3a1d5",
   "metadata": {},
   "outputs": [],
   "source": [
    "#loops statement :\n",
    "for loop\n",
    "while loop \n"
   ]
  },
  {
   "cell_type": "code",
   "execution_count": null,
   "id": "c71c1f62",
   "metadata": {},
   "outputs": [],
   "source": [
    "#loop statements consist of 3 substatements\n",
    "1. intialisation \n",
    "2. conditional\n",
    "3. updation\n"
   ]
  },
  {
   "cell_type": "code",
   "execution_count": 23,
   "id": "7d0f97ce",
   "metadata": {},
   "outputs": [
    {
     "data": {
      "text/plain": [
       "[1, 3, 5, 7, 9]"
      ]
     },
     "execution_count": 23,
     "metadata": {},
     "output_type": "execute_result"
    }
   ],
   "source": [
    "list(range(1,11,2))"
   ]
  },
  {
   "cell_type": "code",
   "execution_count": 28,
   "id": "cb36c8f4",
   "metadata": {},
   "outputs": [
    {
     "data": {
      "text/plain": [
       "[10, 8, 6, 4, 2]"
      ]
     },
     "execution_count": 28,
     "metadata": {},
     "output_type": "execute_result"
    }
   ],
   "source": [
    "list(range(10,0,-2))"
   ]
  },
  {
   "cell_type": "code",
   "execution_count": 29,
   "id": "f165612a",
   "metadata": {},
   "outputs": [
    {
     "name": "stdout",
     "output_type": "stream",
     "text": [
      "2\n",
      "4\n",
      "6\n",
      "8\n",
      "10\n",
      "12\n",
      "14\n",
      "16\n",
      "18\n",
      "20\n"
     ]
    }
   ],
   "source": [
    "for i in range(1,21):\n",
    "    if i%2==0:\n",
    "        print(i)\n"
   ]
  },
  {
   "cell_type": "code",
   "execution_count": 30,
   "id": "22049461",
   "metadata": {},
   "outputs": [
    {
     "name": "stdout",
     "output_type": "stream",
     "text": [
      "c\n",
      "o\n",
      "m\n",
      "p\n",
      "u\n",
      "t\n",
      "e\n",
      "r\n"
     ]
    }
   ],
   "source": [
    "s=\"computer\"\n",
    "for i in s:\n",
    "    print(i)\n"
   ]
  },
  {
   "cell_type": "code",
   "execution_count": 31,
   "id": "3163190d",
   "metadata": {},
   "outputs": [
    {
     "name": "stdout",
     "output_type": "stream",
     "text": [
      "8\n",
      "2\n"
     ]
    }
   ],
   "source": [
    "#iteration operator supported: string , list , tuple , dictionary, set\n",
    "l=[3,5,1,8,7,5,2]\n",
    "for i in l:\n",
    "    if i%2==0:\n",
    "        print(i)"
   ]
  },
  {
   "cell_type": "code",
   "execution_count": 36,
   "id": "950e9f81",
   "metadata": {},
   "outputs": [
    {
     "name": "stdout",
     "output_type": "stream",
     "text": [
      "enter number7\n",
      "enter length5\n",
      "[7, 14, 21, 28, 35]\n"
     ]
    }
   ],
   "source": [
    "num=int(input(\"enter number\"))\n",
    "length=int(input(\"enter length\"))\n",
    "l=[]\n",
    "for i in range(length):\n",
    "    x=num*(i+1)\n",
    "    l.append(x)\n",
    "    \n",
    "print(l)\n",
    "    "
   ]
  },
  {
   "cell_type": "code",
   "execution_count": 39,
   "id": "1660bf29",
   "metadata": {},
   "outputs": [
    {
     "name": "stdout",
     "output_type": "stream",
     "text": [
      "75\n",
      "150\n",
      "145\n"
     ]
    }
   ],
   "source": [
    "numbers = [12, 75, 150, 180, 145, 525, 50]\n",
    "\n",
    "for item in numbers:\n",
    "    if item > 500:\n",
    "        break\n",
    "    elif item > 150:\n",
    "        pass\n",
    "    elif item % 5 == 0:\n",
    "    print(item)"
   ]
  },
  {
   "cell_type": "code",
   "execution_count": 40,
   "id": "addce1e1",
   "metadata": {},
   "outputs": [
    {
     "name": "stdout",
     "output_type": "stream",
     "text": [
      "50\n",
      "40\n",
      "30\n",
      "20\n",
      "10\n"
     ]
    }
   ],
   "source": [
    "list1 = [10, 20, 30, 40, 50]\n",
    "size = len(list1) - 1\n",
    "for i in range(size, -1, -1):\n",
    "    print(list1[i])"
   ]
  },
  {
   "cell_type": "code",
   "execution_count": null,
   "id": "87a46ac1",
   "metadata": {},
   "outputs": [],
   "source": []
  }
 ],
 "metadata": {
  "kernelspec": {
   "display_name": "Python 3 (ipykernel)",
   "language": "python",
   "name": "python3"
  },
  "language_info": {
   "codemirror_mode": {
    "name": "ipython",
    "version": 3
   },
   "file_extension": ".py",
   "mimetype": "text/x-python",
   "name": "python",
   "nbconvert_exporter": "python",
   "pygments_lexer": "ipython3",
   "version": "3.9.7"
  }
 },
 "nbformat": 4,
 "nbformat_minor": 5
}
