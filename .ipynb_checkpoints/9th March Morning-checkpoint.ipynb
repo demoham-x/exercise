{
 "cells": [
  {
   "cell_type": "code",
   "execution_count": 2,
   "id": "e9fc4103",
   "metadata": {},
   "outputs": [
    {
     "data": {
      "text/plain": [
       "{'a': 23, 'b': 'abc', 'c': 67}"
      ]
     },
     "execution_count": 2,
     "metadata": {},
     "output_type": "execute_result"
    }
   ],
   "source": [
    "#dictionary\n",
    "d={'a':23,'b':'abc','c':67}\n",
    "d"
   ]
  },
  {
   "cell_type": "code",
   "execution_count": 3,
   "id": "1fba845f",
   "metadata": {},
   "outputs": [
    {
     "data": {
      "text/plain": [
       "23"
      ]
     },
     "execution_count": 3,
     "metadata": {},
     "output_type": "execute_result"
    }
   ],
   "source": [
    "d['a']"
   ]
  },
  {
   "cell_type": "code",
   "execution_count": 5,
   "id": "93d8ed94",
   "metadata": {},
   "outputs": [
    {
     "name": "stdout",
     "output_type": "stream",
     "text": [
      "('a', 23)\n",
      "('b', 'abc')\n",
      "('c', 67)\n"
     ]
    }
   ],
   "source": [
    "#iteration process\n",
    "for i in d.items():\n",
    "    print(i)\n",
    "    "
   ]
  },
  {
   "cell_type": "code",
   "execution_count": 6,
   "id": "4e8617fc",
   "metadata": {},
   "outputs": [
    {
     "name": "stdout",
     "output_type": "stream",
     "text": [
      "a = 23\n",
      "b = abc\n",
      "c = 67\n"
     ]
    }
   ],
   "source": [
    "for i,j in d.items():\n",
    "    print(i,\"=\",j)\n",
    "    "
   ]
  },
  {
   "cell_type": "code",
   "execution_count": 7,
   "id": "487aa1b5",
   "metadata": {},
   "outputs": [
    {
     "name": "stdout",
     "output_type": "stream",
     "text": [
      "23\n",
      "abc\n",
      "67\n"
     ]
    }
   ],
   "source": [
    "for i in d.values():\n",
    "    print(i)"
   ]
  },
  {
   "cell_type": "code",
   "execution_count": 8,
   "id": "d43a11be",
   "metadata": {},
   "outputs": [
    {
     "name": "stdout",
     "output_type": "stream",
     "text": [
      "a\n",
      "b\n",
      "c\n"
     ]
    }
   ],
   "source": [
    "for i in d.keys():\n",
    "    print(i)"
   ]
  },
  {
   "cell_type": "code",
   "execution_count": 9,
   "id": "69bb93c5",
   "metadata": {},
   "outputs": [
    {
     "data": {
      "text/plain": [
       "{'empid': [101, 102, 103],\n",
       " 'empname': ['jyan', 'jack', 'ryan'],\n",
       " 'salary': [87673, 47867, 87873]}"
      ]
     },
     "execution_count": 9,
     "metadata": {},
     "output_type": "execute_result"
    }
   ],
   "source": [
    "#multivalued dictionary \n",
    "emp={'empid':[101,102,103],'empname':['jyan','jack','ryan'],'salary':[87673,47867,87873]}\n",
    "emp"
   ]
  },
  {
   "cell_type": "code",
   "execution_count": 11,
   "id": "6b3d4af8",
   "metadata": {},
   "outputs": [
    {
     "name": "stdout",
     "output_type": "stream",
     "text": [
      "empid [101, 102, 103]\n",
      "empname ['jyan', 'jack', 'ryan']\n",
      "salary [87673, 47867, 87873]\n"
     ]
    }
   ],
   "source": [
    "for i,j in emp.items():\n",
    "    print(i,j)"
   ]
  },
  {
   "cell_type": "code",
   "execution_count": 12,
   "id": "d1f4b214",
   "metadata": {},
   "outputs": [
    {
     "data": {
      "text/html": [
       "<div>\n",
       "<style scoped>\n",
       "    .dataframe tbody tr th:only-of-type {\n",
       "        vertical-align: middle;\n",
       "    }\n",
       "\n",
       "    .dataframe tbody tr th {\n",
       "        vertical-align: top;\n",
       "    }\n",
       "\n",
       "    .dataframe thead th {\n",
       "        text-align: right;\n",
       "    }\n",
       "</style>\n",
       "<table border=\"1\" class=\"dataframe\">\n",
       "  <thead>\n",
       "    <tr style=\"text-align: right;\">\n",
       "      <th></th>\n",
       "      <th>empid</th>\n",
       "      <th>empname</th>\n",
       "      <th>salary</th>\n",
       "    </tr>\n",
       "  </thead>\n",
       "  <tbody>\n",
       "    <tr>\n",
       "      <th>0</th>\n",
       "      <td>101</td>\n",
       "      <td>jyan</td>\n",
       "      <td>87673</td>\n",
       "    </tr>\n",
       "    <tr>\n",
       "      <th>1</th>\n",
       "      <td>102</td>\n",
       "      <td>jack</td>\n",
       "      <td>47867</td>\n",
       "    </tr>\n",
       "    <tr>\n",
       "      <th>2</th>\n",
       "      <td>103</td>\n",
       "      <td>ryan</td>\n",
       "      <td>87873</td>\n",
       "    </tr>\n",
       "  </tbody>\n",
       "</table>\n",
       "</div>"
      ],
      "text/plain": [
       "   empid empname  salary\n",
       "0    101    jyan   87673\n",
       "1    102    jack   47867\n",
       "2    103    ryan   87873"
      ]
     },
     "execution_count": 12,
     "metadata": {},
     "output_type": "execute_result"
    }
   ],
   "source": [
    "import pandas as pd\n",
    "data=pd.DataFrame(emp)\n",
    "data"
   ]
  },
  {
   "cell_type": "code",
   "execution_count": 15,
   "id": "6b32d1c0",
   "metadata": {},
   "outputs": [
    {
     "name": "stderr",
     "output_type": "stream",
     "text": [
      "<ipython-input-15-f5ec1d5504c8>:1: FutureWarning: As the xlwt package is no longer maintained, the xlwt engine will be removed in a future version of pandas. This is the only engine in pandas that supports writing in the xls format. Install openpyxl and write to an xlsx file instead. You can set the option io.excel.xls.writer to 'xlwt' to silence this warning. While this option is deprecated and will also raise a warning, it can be globally set and the warning suppressed.\n",
      "  data.to_excel(\"sample.xls\")\n"
     ]
    }
   ],
   "source": [
    "data.to_excel(\"sample.xls\")"
   ]
  },
  {
   "cell_type": "code",
   "execution_count": null,
   "id": "610c4bf3",
   "metadata": {},
   "outputs": [],
   "source": [
    "#operations \n",
    "1.slicing / indexing  : string/list/dict/tuple\n",
    "2.insertion  : list/dict\n",
    "3.deletion  :list/dict\n",
    "4.updation  : list/dict\n",
    "5.searching  : string/list/dict/tuple\n",
    "6.transversing : all\n",
    "7.sorting  : all\n",
    "8.copy     : list/dict/tuple\n",
    "9.reverse  : list/dict/tuple\n"
   ]
  },
  {
   "cell_type": "code",
   "execution_count": null,
   "id": "aa18beee",
   "metadata": {},
   "outputs": [],
   "source": [
    "#list \n",
    "append()\n",
    "insert()\n"
   ]
  },
  {
   "cell_type": "code",
   "execution_count": 16,
   "id": "dd13fb9c",
   "metadata": {},
   "outputs": [
    {
     "data": {
      "text/plain": [
       "[23, 45, 67, 89, 90, 34]"
      ]
     },
     "execution_count": 16,
     "metadata": {},
     "output_type": "execute_result"
    }
   ],
   "source": [
    "l=[23,45,67,89,90]\n",
    "l.append(34)\n",
    "l"
   ]
  },
  {
   "cell_type": "code",
   "execution_count": 17,
   "id": "4ed0a032",
   "metadata": {},
   "outputs": [
    {
     "data": {
      "text/plain": [
       "[23, 45, 56, 67, 89, 90, 34]"
      ]
     },
     "execution_count": 17,
     "metadata": {},
     "output_type": "execute_result"
    }
   ],
   "source": [
    "l.insert(2,56)\n",
    "l"
   ]
  },
  {
   "cell_type": "code",
   "execution_count": 3,
   "id": "67fa9498",
   "metadata": {},
   "outputs": [
    {
     "name": "stdout",
     "output_type": "stream",
     "text": [
      "enter you position to enter4\n",
      "enter your element67\n",
      "[23, 45, 67, 89, 67, 90]\n"
     ]
    }
   ],
   "source": [
    "l=[23,45,67,89,90]\n",
    "pos=int(input(\"enter you position to enter\"))\n",
    "elem=int(input(\"enter your element\"))\n",
    "l.insert(pos,elem)\n",
    "print(l)"
   ]
  },
  {
   "cell_type": "code",
   "execution_count": 4,
   "id": "8db1ff27",
   "metadata": {},
   "outputs": [
    {
     "name": "stdout",
     "output_type": "stream",
     "text": [
      "enter size of the list6\n",
      "enter your element23\n",
      "enter your element56\n",
      "enter your element12\n",
      "enter your elementabc\n",
      "enter your element78\n",
      "enter your element55\n",
      "['23', '56', '12', 'abc', '78', '55']\n"
     ]
    }
   ],
   "source": [
    "l=[] #empty list\n",
    "size=int(input(\"enter size of the list\"))\n",
    "for i in range(size):\n",
    "    elem=input(\"enter your element\")\n",
    "    l.append(elem)\n",
    "\n",
    "print(l)"
   ]
  },
  {
   "cell_type": "code",
   "execution_count": null,
   "id": "c2528f39",
   "metadata": {},
   "outputs": [],
   "source": [
    "#deletion operation \n",
    "remove()\n",
    "pop()\n",
    "del opeartor\n"
   ]
  },
  {
   "cell_type": "code",
   "execution_count": 5,
   "id": "70012e95",
   "metadata": {},
   "outputs": [
    {
     "data": {
      "text/plain": [
       "['23', '56', '12', 'abc', '78', '55']"
      ]
     },
     "execution_count": 5,
     "metadata": {},
     "output_type": "execute_result"
    }
   ],
   "source": [
    "l"
   ]
  },
  {
   "cell_type": "code",
   "execution_count": 6,
   "id": "15687b5e",
   "metadata": {},
   "outputs": [
    {
     "data": {
      "text/plain": [
       "['23', '12', 'abc', '78', '55']"
      ]
     },
     "execution_count": 6,
     "metadata": {},
     "output_type": "execute_result"
    }
   ],
   "source": [
    "l.remove('56')\n",
    "l"
   ]
  },
  {
   "cell_type": "code",
   "execution_count": 7,
   "id": "2a9d3976",
   "metadata": {},
   "outputs": [
    {
     "data": {
      "text/plain": [
       "['23', '12', 'abc', '55']"
      ]
     },
     "execution_count": 7,
     "metadata": {},
     "output_type": "execute_result"
    }
   ],
   "source": [
    "l.pop(3)\n",
    "l"
   ]
  },
  {
   "cell_type": "code",
   "execution_count": 8,
   "id": "43e1d13f",
   "metadata": {},
   "outputs": [
    {
     "data": {
      "text/plain": [
       "'12'"
      ]
     },
     "execution_count": 8,
     "metadata": {},
     "output_type": "execute_result"
    }
   ],
   "source": [
    "l.pop(1)"
   ]
  },
  {
   "cell_type": "code",
   "execution_count": 9,
   "id": "2190d641",
   "metadata": {},
   "outputs": [
    {
     "data": {
      "text/plain": [
       "['23', 'abc', '55']"
      ]
     },
     "execution_count": 9,
     "metadata": {},
     "output_type": "execute_result"
    }
   ],
   "source": [
    "l"
   ]
  },
  {
   "cell_type": "code",
   "execution_count": 10,
   "id": "92ffd080",
   "metadata": {},
   "outputs": [],
   "source": [
    "del l[2]"
   ]
  },
  {
   "cell_type": "code",
   "execution_count": 11,
   "id": "36280c3a",
   "metadata": {},
   "outputs": [
    {
     "data": {
      "text/plain": [
       "['23', 'abc']"
      ]
     },
     "execution_count": 11,
     "metadata": {},
     "output_type": "execute_result"
    }
   ],
   "source": [
    "l"
   ]
  },
  {
   "cell_type": "code",
   "execution_count": 12,
   "id": "c0302fe0",
   "metadata": {},
   "outputs": [
    {
     "ename": "IndexError",
     "evalue": "pop index out of range",
     "output_type": "error",
     "traceback": [
      "\u001b[1;31m---------------------------------------------------------------------------\u001b[0m",
      "\u001b[1;31mIndexError\u001b[0m                                Traceback (most recent call last)",
      "\u001b[1;32m<ipython-input-12-fa2b331ed65a>\u001b[0m in \u001b[0;36m<module>\u001b[1;34m\u001b[0m\n\u001b[0;32m      1\u001b[0m \u001b[0ml\u001b[0m\u001b[1;33m=\u001b[0m\u001b[1;33m[\u001b[0m\u001b[1;36m23\u001b[0m\u001b[1;33m,\u001b[0m\u001b[1;36m56\u001b[0m\u001b[1;33m,\u001b[0m\u001b[1;36m78\u001b[0m\u001b[1;33m,\u001b[0m\u001b[1;36m12\u001b[0m\u001b[1;33m,\u001b[0m\u001b[1;36m90\u001b[0m\u001b[1;33m,\u001b[0m\u001b[1;36m44\u001b[0m\u001b[1;33m]\u001b[0m\u001b[1;33m\u001b[0m\u001b[1;33m\u001b[0m\u001b[0m\n\u001b[0;32m      2\u001b[0m \u001b[0ml\u001b[0m\u001b[1;33m.\u001b[0m\u001b[0mpop\u001b[0m\u001b[1;33m(\u001b[0m\u001b[1;36m4\u001b[0m\u001b[1;33m)\u001b[0m\u001b[1;33m\u001b[0m\u001b[1;33m\u001b[0m\u001b[0m\n\u001b[1;32m----> 3\u001b[1;33m \u001b[0ml\u001b[0m\u001b[1;33m.\u001b[0m\u001b[0mpop\u001b[0m\u001b[1;33m(\u001b[0m\u001b[1;36m5\u001b[0m\u001b[1;33m)\u001b[0m\u001b[1;33m\u001b[0m\u001b[1;33m\u001b[0m\u001b[0m\n\u001b[0m\u001b[0;32m      4\u001b[0m \u001b[0ml\u001b[0m\u001b[1;33m.\u001b[0m\u001b[0mpop\u001b[0m\u001b[1;33m(\u001b[0m\u001b[1;36m2\u001b[0m\u001b[1;33m)\u001b[0m\u001b[1;33m\u001b[0m\u001b[1;33m\u001b[0m\u001b[0m\n",
      "\u001b[1;31mIndexError\u001b[0m: pop index out of range"
     ]
    }
   ],
   "source": [
    "l=[23,56,78,12,90,44]\n",
    "l.pop(4)\n",
    "l.pop(5)\n",
    "l.pop(2)"
   ]
  },
  {
   "cell_type": "code",
   "execution_count": 13,
   "id": "629ad54a",
   "metadata": {},
   "outputs": [],
   "source": [
    "l=[23,56,78,12,90,44]"
   ]
  },
  {
   "cell_type": "code",
   "execution_count": 14,
   "id": "c18762c3",
   "metadata": {},
   "outputs": [],
   "source": [
    "del l[1:4]"
   ]
  },
  {
   "cell_type": "code",
   "execution_count": 15,
   "id": "870087e4",
   "metadata": {},
   "outputs": [
    {
     "data": {
      "text/plain": [
       "[23, 90, 44]"
      ]
     },
     "execution_count": 15,
     "metadata": {},
     "output_type": "execute_result"
    }
   ],
   "source": [
    "l"
   ]
  },
  {
   "cell_type": "code",
   "execution_count": 16,
   "id": "f99dc731",
   "metadata": {},
   "outputs": [
    {
     "name": "stdout",
     "output_type": "stream",
     "text": [
      "select yes/no to start the opeartions yes\n",
      "enter your choice of operations ( + or - )+\n",
      "enter value a4\n",
      "enter value b6\n",
      "sum= 10\n",
      "do you want to continue again yes\n",
      "enter your choice of operations ( + or - )-\n",
      "enter value a6\n",
      "enter value b8\n",
      "result= -2\n",
      "do you want to continue again no\n",
      "process over \n"
     ]
    }
   ],
   "source": [
    "#menu -driven program based on choice \n",
    "con=input(\"select yes/no to start the opeartions \")\n",
    "while(con==\"yes\"):\n",
    "    choice=input(\"enter your choice of operations ( + or - )\")\n",
    "    a=int(input(\"enter value a\"))\n",
    "    b=int(input(\"enter value b\"))\n",
    "    if choice==\"+\":\n",
    "        print(\"sum=\",a+b)\n",
    "    elif choice==\"-\":\n",
    "        print(\"result=\",a-b)\n",
    "    con=input(\"do you want to continue again \")\n",
    "    if con==\"yes\":\n",
    "        continue\n",
    "    elif con==\"no\":\n",
    "        break\n",
    "    \n",
    "print(\"process over \")\n",
    "        \n",
    "        "
   ]
  },
  {
   "cell_type": "code",
   "execution_count": 17,
   "id": "0c74995c",
   "metadata": {},
   "outputs": [],
   "source": [
    "a=5\n",
    "b=2\n"
   ]
  },
  {
   "cell_type": "code",
   "execution_count": 19,
   "id": "65cf9855",
   "metadata": {},
   "outputs": [
    {
     "data": {
      "text/plain": [
       "2.5"
      ]
     },
     "execution_count": 19,
     "metadata": {},
     "output_type": "execute_result"
    }
   ],
   "source": [
    "a//b #floor division"
   ]
  },
  {
   "cell_type": "code",
   "execution_count": 20,
   "id": "f622b3b2",
   "metadata": {},
   "outputs": [
    {
     "data": {
      "text/plain": [
       "10"
      ]
     },
     "execution_count": 20,
     "metadata": {},
     "output_type": "execute_result"
    }
   ],
   "source": [
    "a*b"
   ]
  },
  {
   "cell_type": "code",
   "execution_count": 21,
   "id": "08130524",
   "metadata": {},
   "outputs": [
    {
     "data": {
      "text/plain": [
       "25"
      ]
     },
     "execution_count": 21,
     "metadata": {},
     "output_type": "execute_result"
    }
   ],
   "source": [
    "a**b #exponential"
   ]
  },
  {
   "cell_type": "code",
   "execution_count": null,
   "id": "52ad072d",
   "metadata": {},
   "outputs": [],
   "source": []
  }
 ],
 "metadata": {
  "kernelspec": {
   "display_name": "Python 3 (ipykernel)",
   "language": "python",
   "name": "python3"
  },
  "language_info": {
   "codemirror_mode": {
    "name": "ipython",
    "version": 3
   },
   "file_extension": ".py",
   "mimetype": "text/x-python",
   "name": "python",
   "nbconvert_exporter": "python",
   "pygments_lexer": "ipython3",
   "version": "3.9.7"
  }
 },
 "nbformat": 4,
 "nbformat_minor": 5
}
