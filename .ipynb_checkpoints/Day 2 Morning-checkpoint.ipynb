{
 "cells": [
  {
   "cell_type": "code",
   "execution_count": 1,
   "id": "5a76fd8c",
   "metadata": {},
   "outputs": [
    {
     "data": {
      "text/plain": [
       "6.0"
      ]
     },
     "execution_count": 1,
     "metadata": {},
     "output_type": "execute_result"
    }
   ],
   "source": [
    "a=6\n",
    "float(a)"
   ]
  },
  {
   "cell_type": "code",
   "execution_count": 2,
   "id": "1444aa68",
   "metadata": {},
   "outputs": [
    {
     "data": {
      "text/plain": [
       "(6+0j)"
      ]
     },
     "execution_count": 2,
     "metadata": {},
     "output_type": "execute_result"
    }
   ],
   "source": [
    "complex(a)"
   ]
  },
  {
   "cell_type": "code",
   "execution_count": null,
   "id": "83b06cc7",
   "metadata": {},
   "outputs": [],
   "source": [
    "int()\n",
    "float()\n",
    "complex()\n",
    "list()\n",
    "str()\n",
    "tuple()\n",
    "dict()\n",
    "set()\n",
    "bool()\n"
   ]
  },
  {
   "cell_type": "code",
   "execution_count": 3,
   "id": "b7e494e7",
   "metadata": {},
   "outputs": [
    {
     "name": "stdout",
     "output_type": "stream",
     "text": [
      "{1, 2, 3, 5, 7}\n"
     ]
    }
   ],
   "source": [
    "s={3,2,5,1,7,2,3,1,7}\n",
    "print(s)"
   ]
  },
  {
   "cell_type": "code",
   "execution_count": 7,
   "id": "da59756c",
   "metadata": {},
   "outputs": [
    {
     "name": "stdout",
     "output_type": "stream",
     "text": [
      "8\n"
     ]
    },
    {
     "data": {
      "text/plain": [
       "'COMPUTER'"
      ]
     },
     "execution_count": 7,
     "metadata": {},
     "output_type": "execute_result"
    }
   ],
   "source": [
    "s=\"computer\"\n",
    "print(len(s))\n",
    "s.upper()"
   ]
  },
  {
   "cell_type": "code",
   "execution_count": 6,
   "id": "0e131a92",
   "metadata": {},
   "outputs": [
    {
     "data": {
      "text/plain": [
       "8"
      ]
     },
     "execution_count": 6,
     "metadata": {},
     "output_type": "execute_result"
    }
   ],
   "source": [
    "len(s)"
   ]
  },
  {
   "cell_type": "code",
   "execution_count": null,
   "id": "48c6bba2",
   "metadata": {},
   "outputs": [],
   "source": [
    "Operators : \n",
    "    unary , binary , ternary \n",
    "binary : \n",
    "    arithematic : +,-,*,/,//,%,**\n",
    "    relational :  >,<,>=,<=,!=,==\n",
    "    logical   : and , or , not \n",
    "    bitwise  : & , | , ! \n",
    "    membership  : in , not in \n",
    "    indentity   : is / is not \n",
    "    assignment  : +=,-=,*=,"
   ]
  },
  {
   "cell_type": "code",
   "execution_count": 8,
   "id": "3201eb70",
   "metadata": {},
   "outputs": [
    {
     "name": "stdout",
     "output_type": "stream",
     "text": [
      "2.5\n",
      "2\n",
      "1\n",
      "10\n",
      "25\n"
     ]
    }
   ],
   "source": [
    "a=5\n",
    "b=2\n",
    "print(a/b)\n",
    "print(a//b)\n",
    "print(a%b)\n",
    "print(a*b)\n",
    "print(a**b)"
   ]
  },
  {
   "cell_type": "code",
   "execution_count": 12,
   "id": "95edcb52",
   "metadata": {},
   "outputs": [
    {
     "name": "stdout",
     "output_type": "stream",
     "text": [
      "True\n"
     ]
    }
   ],
   "source": [
    "a=-6\n",
    "b=-4\n",
    "c=6\n",
    "\n",
    "d=(a > b) and (a < c) or (b<c)\n",
    "print(d)"
   ]
  },
  {
   "cell_type": "code",
   "execution_count": 13,
   "id": "83c31273",
   "metadata": {},
   "outputs": [
    {
     "name": "stdout",
     "output_type": "stream",
     "text": [
      "0b101\n"
     ]
    }
   ],
   "source": [
    "a=5\n",
    "b=2\n",
    "print(bin(a))"
   ]
  },
  {
   "cell_type": "code",
   "execution_count": 15,
   "id": "4ab5adf6",
   "metadata": {},
   "outputs": [
    {
     "name": "stdout",
     "output_type": "stream",
     "text": [
      "0b10\n"
     ]
    }
   ],
   "source": [
    "print(bin(b))"
   ]
  },
  {
   "cell_type": "code",
   "execution_count": 16,
   "id": "a3a10c36",
   "metadata": {},
   "outputs": [
    {
     "name": "stdout",
     "output_type": "stream",
     "text": [
      "0\n"
     ]
    }
   ],
   "source": [
    "print(a & b)"
   ]
  },
  {
   "cell_type": "code",
   "execution_count": 17,
   "id": "e8fa3276",
   "metadata": {},
   "outputs": [
    {
     "name": "stdout",
     "output_type": "stream",
     "text": [
      "7\n"
     ]
    }
   ],
   "source": [
    "print(a | b)"
   ]
  },
  {
   "cell_type": "code",
   "execution_count": 18,
   "id": "72cb29a7",
   "metadata": {},
   "outputs": [
    {
     "name": "stdout",
     "output_type": "stream",
     "text": [
      "3\n"
     ]
    }
   ],
   "source": [
    "print(11 & 3)"
   ]
  },
  {
   "cell_type": "code",
   "execution_count": 19,
   "id": "22c0b8e0",
   "metadata": {},
   "outputs": [
    {
     "data": {
      "text/plain": [
       "'0b1011'"
      ]
     },
     "execution_count": 19,
     "metadata": {},
     "output_type": "execute_result"
    }
   ],
   "source": [
    "bin(11)"
   ]
  },
  {
   "cell_type": "code",
   "execution_count": 20,
   "id": "0cffadca",
   "metadata": {},
   "outputs": [
    {
     "data": {
      "text/plain": [
       "17"
      ]
     },
     "execution_count": 20,
     "metadata": {},
     "output_type": "execute_result"
    }
   ],
   "source": [
    "a=6\n",
    "a+=11\n",
    "a"
   ]
  },
  {
   "cell_type": "code",
   "execution_count": 2,
   "id": "b4b0556b",
   "metadata": {},
   "outputs": [
    {
     "ename": "ModuleNotFoundError",
     "evalue": "No module named 'pandasql'",
     "output_type": "error",
     "traceback": [
      "\u001b[1;31m---------------------------------------------------------------------------\u001b[0m",
      "\u001b[1;31mModuleNotFoundError\u001b[0m                       Traceback (most recent call last)",
      "\u001b[1;32m~\\AppData\\Local\\Temp/ipykernel_16484/4231378419.py\u001b[0m in \u001b[0;36m<module>\u001b[1;34m\u001b[0m\n\u001b[1;32m----> 1\u001b[1;33m \u001b[1;32mimport\u001b[0m \u001b[0mpandasql\u001b[0m \u001b[1;32mas\u001b[0m \u001b[0mps\u001b[0m\u001b[1;33m\u001b[0m\u001b[1;33m\u001b[0m\u001b[0m\n\u001b[0m",
      "\u001b[1;31mModuleNotFoundError\u001b[0m: No module named 'pandasql'"
     ]
    }
   ],
   "source": [
    "import pandasql as ps"
   ]
  },
  {
   "cell_type": "code",
   "execution_count": null,
   "id": "fd5f3bd2",
   "metadata": {},
   "outputs": [],
   "source": []
  }
 ],
 "metadata": {
  "kernelspec": {
   "display_name": "Python 3 (ipykernel)",
   "language": "python",
   "name": "python3"
  },
  "language_info": {
   "codemirror_mode": {
    "name": "ipython",
    "version": 3
   },
   "file_extension": ".py",
   "mimetype": "text/x-python",
   "name": "python",
   "nbconvert_exporter": "python",
   "pygments_lexer": "ipython3",
   "version": "3.9.7"
  }
 },
 "nbformat": 4,
 "nbformat_minor": 5
}
