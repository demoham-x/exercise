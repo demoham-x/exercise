{
 "cells": [
  {
   "cell_type": "code",
   "execution_count": 1,
   "id": "fefeff61",
   "metadata": {},
   "outputs": [],
   "source": [
    "def SI(p,r,t):\n",
    "    si=(p*r*t)/100\n",
    "    return si"
   ]
  },
  {
   "cell_type": "code",
   "execution_count": null,
   "id": "e2d303b1",
   "metadata": {},
   "outputs": [],
   "source": []
  }
 ],
 "metadata": {
  "kernelspec": {
   "display_name": "Python 3 (ipykernel)",
   "language": "python",
   "name": "python3"
  },
  "language_info": {
   "codemirror_mode": {
    "name": "ipython",
    "version": 3
   },
   "file_extension": ".py",
   "mimetype": "text/x-python",
   "name": "python",
   "nbconvert_exporter": "python",
   "pygments_lexer": "ipython3",
   "version": "3.9.7"
  }
 },
 "nbformat": 4,
 "nbformat_minor": 5
}
