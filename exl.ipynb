{
 "cells": [
  {
   "cell_type": "code",
   "execution_count": 8,
   "id": "8c68973e",
   "metadata": {},
   "outputs": [],
   "source": [
    "a=\"12+ 24\"\n",
    "b=\"12 * 24\"\n",
    "c=\"4//2\""
   ]
  },
  {
   "cell_type": "code",
   "execution_count": 2,
   "id": "5d0abca2",
   "metadata": {},
   "outputs": [
    {
     "data": {
      "text/plain": [
       "'12 + 24'"
      ]
     },
     "execution_count": 2,
     "metadata": {},
     "output_type": "execute_result"
    }
   ],
   "source": [
    "a"
   ]
  },
  {
   "cell_type": "code",
   "execution_count": 7,
   "id": "f507ce63",
   "metadata": {},
   "outputs": [
    {
     "data": {
      "text/plain": [
       "36"
      ]
     },
     "execution_count": 7,
     "metadata": {},
     "output_type": "execute_result"
    }
   ],
   "source": [
    "eval(a)"
   ]
  },
  {
   "cell_type": "code",
   "execution_count": 5,
   "id": "ef4f01ea",
   "metadata": {},
   "outputs": [
    {
     "data": {
      "text/plain": [
       "288"
      ]
     },
     "execution_count": 5,
     "metadata": {},
     "output_type": "execute_result"
    }
   ],
   "source": [
    "eval(b)"
   ]
  },
  {
   "cell_type": "code",
   "execution_count": 9,
   "id": "6421b48d",
   "metadata": {},
   "outputs": [
    {
     "data": {
      "text/plain": [
       "2"
      ]
     },
     "execution_count": 9,
     "metadata": {},
     "output_type": "execute_result"
    }
   ],
   "source": [
    "eval(c)"
   ]
  },
  {
   "cell_type": "code",
   "execution_count": null,
   "id": "81ee99aa",
   "metadata": {},
   "outputs": [],
   "source": [
    "a=input(\"enter value of a\")\n",
    "b=input(\"enter value of b\")\n"
   ]
  },
  {
   "cell_type": "code",
   "execution_count": 11,
   "id": "0e490803",
   "metadata": {},
   "outputs": [
    {
     "name": "stdout",
     "output_type": "stream",
     "text": [
      "12131415"
     ]
    }
   ],
   "source": [
    "a=[12,13,14,15]\n",
    "for i in a:\n",
    "    print(i,end=\"\")"
   ]
  },
  {
   "cell_type": "code",
   "execution_count": 1,
   "id": "d7edccd9",
   "metadata": {
    "scrolled": true
   },
   "outputs": [
    {
     "name": "stdout",
     "output_type": "stream",
     "text": [
      "enter you age23\n",
      "enter your marks78\n",
      "['enrolment allowed']\n"
     ]
    }
   ],
   "source": [
    "age=int(input(\"enter you age\"))\n",
    "marks=int(input(\"enter your marks\"))\n",
    "result=[\"enrolment allowed\" if age>=20 and marks>=70 else \"not allowed\"]\n",
    "print(result)"
   ]
  },
  {
   "cell_type": "code",
   "execution_count": 5,
   "id": "ad78237c",
   "metadata": {},
   "outputs": [
    {
     "name": "stdout",
     "output_type": "stream",
     "text": [
      "enter you age23\n",
      "enter your marks51\n",
      "['check for concession']\n"
     ]
    }
   ],
   "source": [
    "age=int(input(\"enter you age\"))\n",
    "marks=int(input(\"enter your marks\"))\n",
    "result=[\"enrolment allowed\" if age>=20 and marks>=70 else \"check for concession\" if age>=20 and marks<70 else \"not allowed\"]\n",
    "print(result)"
   ]
  },
  {
   "cell_type": "code",
   "execution_count": 8,
   "id": "4277703a",
   "metadata": {},
   "outputs": [
    {
     "name": "stdout",
     "output_type": "stream",
     "text": [
      "enter speed limit: 80\n",
      "enter average speed: 90\n",
      "enter distance: 40\n",
      "3.3\n"
     ]
    }
   ],
   "source": [
    "def time_saved(speed_limit,average_speed,distance):\n",
    "    time_taken_limit = distance/(speed_limit/60) \n",
    "    time_taken_avg = distance/(average_speed/60)\n",
    "    return round((time_taken_limit - time_taken_avg),1)\n",
    "speed_limit = int(input(\"enter speed limit: \"))\n",
    "average_speed = int(input(\"enter average speed: \"))\n",
    "distance = int(input(\"enter distance: \"))\n",
    "timeSaved = time_saved(speed_limit,average_speed,distance)\n",
    "print(timeSaved)\n"
   ]
  },
  {
   "cell_type": "code",
   "execution_count": 2,
   "id": "dae2ba22",
   "metadata": {},
   "outputs": [],
   "source": [
    "def slutter(x):\n",
    "    print(\"{}..{}.. {}\".format(x[0:2],x[0:2],x))"
   ]
  },
  {
   "cell_type": "code",
   "execution_count": 3,
   "id": "6e98447b",
   "metadata": {},
   "outputs": [
    {
     "name": "stdout",
     "output_type": "stream",
     "text": [
      "in..in.. incredible\n"
     ]
    }
   ],
   "source": [
    "slutter(\"incredible\")\n"
   ]
  },
  {
   "cell_type": "code",
   "execution_count": 4,
   "id": "1f1b183e",
   "metadata": {},
   "outputs": [
    {
     "name": "stdout",
     "output_type": "stream",
     "text": [
      "en..en.. enthusiastic\n"
     ]
    }
   ],
   "source": [
    "slutter(\"enthusiastic\")"
   ]
  },
  {
   "cell_type": "code",
   "execution_count": 10,
   "id": "581ff056",
   "metadata": {},
   "outputs": [],
   "source": [
    "#writting operation\n",
    "with open(\"a.docx\",\"w\") as a:\n",
    "    content=(\"hi you are the master\")\n",
    "    a.write(content)"
   ]
  },
  {
   "cell_type": "code",
   "execution_count": 36,
   "id": "c80188ed",
   "metadata": {},
   "outputs": [],
   "source": [
    "#assignment- fruit juice company\n",
    "def get_drink_ID(fruit,quant):\n",
    "    f=fruit.split(\" \")\n",
    "    q=quant.split(\"ml\")\n",
    "    if len(f)==1:\n",
    "        a=f[0]\n",
    "        a1=a[0:3]\n",
    "        print((a1+q[0]).upper())\n",
    "    if len(f)==2:\n",
    "        a,b=f[0],f[1]\n",
    "        a1,b1=a[0:3],b[0:3]\n",
    "        print((a1+b1+q[0]).upper())"
   ]
  },
  {
   "cell_type": "code",
   "execution_count": 37,
   "id": "f8917503",
   "metadata": {},
   "outputs": [
    {
     "name": "stdout",
     "output_type": "stream",
     "text": [
      "APPFRU10\n"
     ]
    }
   ],
   "source": [
    "get_drink_ID(\"apple fruit\",\"10ml\")"
   ]
  },
  {
   "cell_type": "code",
   "execution_count": 40,
   "id": "0aeee2f3",
   "metadata": {},
   "outputs": [
    {
     "name": "stdout",
     "output_type": "stream",
     "text": [
      "hi you are the master\n",
      "5\n"
     ]
    }
   ],
   "source": [
    "#word count\n",
    "f=open(\"a.doc\",\"r\")\n",
    "a=f.read()\n",
    "wc=a.split(\" \")\n",
    "word_count=len(wc)\n",
    "print(a)\n",
    "print(word_count)\n",
    "f.close()"
   ]
  },
  {
   "cell_type": "code",
   "execution_count": null,
   "id": "3885036f",
   "metadata": {},
   "outputs": [],
   "source": [
    "class Employee:\n",
    "    empname=input(\"enter the name \")\n",
    "    paidperhr=int(input())"
   ]
  },
  {
   "cell_type": "code",
   "execution_count": 4,
   "id": "b512db99",
   "metadata": {},
   "outputs": [
    {
     "name": "stdout",
     "output_type": "stream",
     "text": [
      "mahir eats the ice cream  and  loves it\n"
     ]
    }
   ],
   "source": [
    "class Person():\n",
    "    def __init__(self,name,likefood,hatefood):\n",
    "        self.name=name\n",
    "        self.likefood=likefood\n",
    "        self.hatefood=hatefood\n",
    "    def taste(self,foodlist):\n",
    "        if foodlist in self.likefood:\n",
    "            print(\"{} eats the {}  and  loves it\".format(self.name,foodlist))\n",
    "        elif foodlist in self.hatefood:\n",
    "            print(\"{} eats the {}  and  hates it\".format(self.name,foodlist))\n",
    "        else :\n",
    "            print(\"{} eats the {}\".format(self.name,foodlist))\n",
    "a=Person(\"mahir\",[\"ice cream\"],[\"papaya\"])\n",
    "a.taste(\"ice cream\")"
   ]
  },
  {
   "cell_type": "code",
   "execution_count": 2,
   "id": "c5ad2a94",
   "metadata": {},
   "outputs": [
    {
     "name": "stdout",
     "output_type": "stream",
     "text": [
      "27  is a prime no\n"
     ]
    }
   ],
   "source": [
    "#chicking prime numbeer\n",
    "import threading\n",
    "def prime_no(x):\n",
    "    if x>1:\n",
    "        for i in (2,(x/2)+1):\n",
    "            if (x%i)==0:\n",
    "                print(x,\" is not a prime no\")\n",
    "                break\n",
    "            else:\n",
    "                print(x,' is a prime no')\n",
    "                break\n",
    "    else:\n",
    "        print(x,' is not a prime no')\n",
    "\n",
    "thread1=threading.Thread(target=prime_no,args=(27,))\n",
    "thread1.start()\n"
   ]
  },
  {
   "cell_type": "code",
   "execution_count": 3,
   "id": "ed9fb805",
   "metadata": {},
   "outputs": [],
   "source": [
    " import re"
   ]
  },
  {
   "cell_type": "markdown",
   "id": "4d29077a",
   "metadata": {},
   "source": [
    "***regular expression***\n",
    "\n",
    "*function associated with regex*\n",
    "\n",
    "    1.findall()\n",
    "    2.search()\n",
    "    3.match()\n",
    "    4.sub()\n",
    "    5.split()\n",
    "    6.compile()\n"
   ]
  },
  {
   "cell_type": "code",
   "execution_count": 5,
   "id": "6382c269",
   "metadata": {},
   "outputs": [
    {
     "name": "stdout",
     "output_type": "stream",
     "text": [
      "enter the text to validateThe first re program\n",
      "['The']\n"
     ]
    }
   ],
   "source": [
    "#check whether your given text is starting with certain string\n",
    "text=input(\"enter the text to validate\")\n",
    "pattern=\"^The\"\n",
    "r=re.findall(pattern,text)\n",
    "print(r)"
   ]
  },
  {
   "cell_type": "code",
   "execution_count": 7,
   "id": "d2c7a022",
   "metadata": {},
   "outputs": [
    {
     "name": "stdout",
     "output_type": "stream",
     "text": [
      "enter the text to validateThe second re program\n",
      "<re.Match object; span=(0, 3), match='The'>\n"
     ]
    }
   ],
   "source": [
    "text=input(\"enter the text to validate\")\n",
    "pattern=\"^The\"\n",
    "r=re.search(pattern,text)\n",
    "print(r)"
   ]
  },
  {
   "cell_type": "code",
   "execution_count": 9,
   "id": "d7acd78a",
   "metadata": {},
   "outputs": [
    {
     "name": "stdout",
     "output_type": "stream",
     "text": [
      "enter the text to validateThe first re prog\n",
      "<re.Match object; span=(0, 3), match='The'>\n"
     ]
    }
   ],
   "source": [
    "text=input(\"enter the text to validate\")\n",
    "pattern=\"^The\"\n",
    "r=re.match(pattern,text)\n",
    "print(r)"
   ]
  },
  {
   "cell_type": "markdown",
   "id": "0d04808b",
   "metadata": {},
   "source": [
    "\n",
    "**1.meta characters**\n",
    "\n",
    "    ^ -to check it statrs with\n",
    "    $ -to check with end with\n",
    "    | -it checks eiht two strings if it is available or not\n",
    "    * -0 or more occurance of the string\n",
    "    + -1 or more\n",
    "    {no of occurance} -only given no of occurance\n",
    "    . -used as a place holder which indicates how many characters tp      include between text\n",
    "\n",
    "**2.sequences**\n",
    "\n",
    "**3.sets**"
   ]
  },
  {
   "cell_type": "code",
   "execution_count": 11,
   "id": "cfc86ce3",
   "metadata": {},
   "outputs": [
    {
     "name": "stdout",
     "output_type": "stream",
     "text": [
      "enter the text to validatethe first prog\n",
      "['prog']\n",
      "validated\n"
     ]
    }
   ],
   "source": [
    "text=input(\"enter the text to validate\")\n",
    "pattern=\"prog$\"\n",
    "r=re.findall(pattern,text)\n",
    "print(r)\n",
    "if re.search(pattern,text):\n",
    "    print(\"validated\")\n",
    "else:\n",
    "    print(\"not validated\")"
   ]
  },
  {
   "cell_type": "code",
   "execution_count": 14,
   "id": "d5b23a16",
   "metadata": {},
   "outputs": [
    {
     "name": "stdout",
     "output_type": "stream",
     "text": [
      "enter the text to validatethi is python prog\n",
      "['python', 'prog']\n",
      "validated\n"
     ]
    }
   ],
   "source": [
    "text=input(\"enter the text to validate\")\n",
    "pattern=\"python|prog\"\n",
    "r=re.findall(pattern,text)\n",
    "print(r)\n",
    "if re.search(pattern,text):\n",
    "    print(\"validated\")\n",
    "else:\n",
    "    print(\"not validated\")"
   ]
  },
  {
   "cell_type": "code",
   "execution_count": 16,
   "id": "1420602f",
   "metadata": {},
   "outputs": [
    {
     "name": "stdout",
     "output_type": "stream",
     "text": [
      "enter the text to validatexyx xxyyx xxxx yyyxxx xyyxxx\n",
      "['xyx', 'xx', 'xxxx', 'xxx', 'xyyxxx']\n",
      "validated\n"
     ]
    }
   ],
   "source": [
    "text=input(\"enter the text to validate\")\n",
    "pattern=\"xy*x+\"\n",
    "r=re.findall(pattern,text)\n",
    "print(r)\n",
    "if re.search(pattern,text):\n",
    "    print(\"validated\")\n",
    "else:\n",
    "    print(\"not validated\")"
   ]
  },
  {
   "cell_type": "code",
   "execution_count": 18,
   "id": "201ab934",
   "metadata": {},
   "outputs": [
    {
     "name": "stdout",
     "output_type": "stream",
     "text": [
      "enter the text to validatexyx xxyyx xxxx yyyxxx xyyxxx\n",
      "['xyx', 'xyyx', 'xyyxxx']\n",
      "validated\n"
     ]
    }
   ],
   "source": [
    "text=input(\"enter the text to validate\")\n",
    "pattern=\"xy+x+\"\n",
    "r=re.findall(pattern,text)\n",
    "print(r)\n",
    "if re.search(pattern,text):\n",
    "    print(\"validated\")\n",
    "else:\n",
    "    print(\"not validated\")"
   ]
  },
  {
   "cell_type": "code",
   "execution_count": 9,
   "id": "5ed21ee9",
   "metadata": {},
   "outputs": [
    {
     "name": "stdout",
     "output_type": "stream",
     "text": [
      "enter the text to validatebbbb abb aaabbb ababa\n",
      "['bbb', 'aaabbb']\n",
      "validated\n"
     ]
    }
   ],
   "source": [
    "import re\n",
    "text=input(\"enter the text to validate\")\n",
    "pattern=\"a*b{3}\"\n",
    "r=re.findall(pattern,text)\n",
    "print(r)\n",
    "if re.search(pattern,text):\n",
    "    print(\"validated\")\n",
    "else:\n",
    "    print(\"not validated\")"
   ]
  },
  {
   "cell_type": "code",
   "execution_count": 10,
   "id": "63d3af0c",
   "metadata": {},
   "outputs": [
    {
     "name": "stdout",
     "output_type": "stream",
     "text": [
      "enter the text to validatepythhon\n",
      "['pythhon']\n",
      "validated\n"
     ]
    }
   ],
   "source": [
    "text=input(\"enter the text to validate\")\n",
    "pattern=\"pyt..on\"\n",
    "r=re.findall(pattern,text)\n",
    "print(r)\n",
    "if re.search(pattern,text):\n",
    "    print(\"validated\")\n",
    "else:\n",
    "    print(\"not validated\")"
   ]
  },
  {
   "cell_type": "code",
   "execution_count": 4,
   "id": "980a37f2",
   "metadata": {},
   "outputs": [
    {
     "name": "stdout",
     "output_type": "stream",
     "text": [
      "enter the text to validatemahir\n",
      "['m', 'a', 'h', 'i']\n",
      "validated\n"
     ]
    }
   ],
   "source": [
    "text=input(\"enter the text to validate\")\n",
    "pattern=\"[a-m]\"\n",
    "r=re.findall(pattern,text)\n",
    "print(r)\n",
    "if re.search(pattern,text):\n",
    "    print(\"validated\")\n",
    "else:\n",
    "    print(\"not validated\")"
   ]
  },
  {
   "cell_type": "code",
   "execution_count": 11,
   "id": "68ef90ec",
   "metadata": {},
   "outputs": [
    {
     "name": "stdout",
     "output_type": "stream",
     "text": [
      "enter the text to validatema ham\n",
      "['m', 'a', 'a', 'm']\n",
      "validated\n"
     ]
    }
   ],
   "source": [
    "text=input(\"enter the text to validate\")\n",
    "pattern=\"[am]\"\n",
    "r=re.findall(pattern,text)\n",
    "print(r)\n",
    "if re.search(pattern,text):\n",
    "    print(\"validated\")\n",
    "else:\n",
    "    print(\"not validated\")"
   ]
  },
  {
   "cell_type": "code",
   "execution_count": 3,
   "id": "527789b4",
   "metadata": {},
   "outputs": [
    {
     "name": "stdout",
     "output_type": "stream",
     "text": [
      "enter the text to validate67 62 68 88 99\n",
      "['62']\n",
      "not validated\n"
     ]
    }
   ],
   "source": [
    "#re.match - it will validate if it is more than one\n",
    "\n",
    "import re\n",
    "text=input(\"enter the text to validate\")\n",
    "pattern=\"[5-9][1-6]\"\n",
    "r=re.findall(pattern,text)\n",
    "print(r)\n",
    "if re.match(pattern,text):\n",
    "    print(\"validated\")\n",
    "else:\n",
    "    print(\"not validated\")"
   ]
  },
  {
   "cell_type": "code",
   "execution_count": 13,
   "id": "e8a72369",
   "metadata": {},
   "outputs": [
    {
     "name": "stdout",
     "output_type": "stream",
     "text": [
      "enter the text to validate :there is machine\n",
      "enter the string to search :is\n",
      "validated\n",
      "7\n"
     ]
    }
   ],
   "source": [
    "#to find the index of the word\n",
    "\n",
    "text=input(\"enter the text to validate :\")\n",
    "p=input(\"enter the string to search :\")\n",
    "r=re.findall(p,text)\n",
    "s=re.search(p,text)\n",
    "if re.search(p,text):\n",
    "    print(\"validated\")\n",
    "    a=s.span()\n",
    "    print(a[0]+1)\n",
    "else:\n",
    "    print(\"not validated\")"
   ]
  },
  {
   "cell_type": "code",
   "execution_count": 106,
   "id": "e596691c",
   "metadata": {},
   "outputs": [
    {
     "name": "stdout",
     "output_type": "stream",
     "text": [
      "enter the number9010101010\n",
      "validated\n"
     ]
    }
   ],
   "source": [
    "#to check the phone number\n",
    "import re\n",
    "text=input(\"enter the number\")\n",
    "p=\"^(\\+|91)?[6-9][0-9]{9}\"\n",
    "r=re.findall(p,text)\n",
    "s=re.search(p,text)\n",
    "if re.search(p,text):\n",
    "    print(\"validated\")\n",
    "else:\n",
    "    print(\"not validated\")"
   ]
  },
  {
   "cell_type": "code",
   "execution_count": 30,
   "id": "bb712f08",
   "metadata": {},
   "outputs": [
    {
     "name": "stdout",
     "output_type": "stream",
     "text": [
      "enter your password :Mahir@12\n",
      "validated\n"
     ]
    }
   ],
   "source": [
    "#to validate a password\n",
    "#(?=.*[a-z]) :this can contain at any position and atleast one value should be there\n",
    "import re\n",
    "text=input(\"enter your password :\")\n",
    "p=\"(?=.*[a-z])(?=.*[A-Z])(?=.*\\d)(?=.*\\@).{8}$\"\n",
    "r=re.findall(p,text)\n",
    "s=re.search(p,text)\n",
    "if re.search(p,text):\n",
    "    print(\"validated\")\n",
    "else:\n",
    "    print(\"not validated\")"
   ]
  },
  {
   "cell_type": "code",
   "execution_count": 86,
   "id": "75d2af32",
   "metadata": {},
   "outputs": [],
   "source": [
    "#check disarium\n",
    "def is_disarium(x):\n",
    "    no=x\n",
    "    count=0\n",
    "    b=[]\n",
    "    add=0\n",
    "    while(no!=0):\n",
    "        digit=no%10\n",
    "        no=no//10\n",
    "        b.append(digit)\n",
    "        count=count+1\n",
    "        print(count)\n",
    "    print (b)\n",
    "    for i in b:\n",
    "        add=add+i**count\n",
    "        print(add)\n",
    "        "
   ]
  },
  {
   "cell_type": "code",
   "execution_count": 87,
   "id": "5babb029",
   "metadata": {},
   "outputs": [
    {
     "name": "stdout",
     "output_type": "stream",
     "text": [
      "1\n",
      "2\n",
      "3\n",
      "[8, 1, 5]\n",
      "512\n",
      "513\n",
      "638\n"
     ]
    }
   ],
   "source": [
    "is_disarium(518)"
   ]
  },
  {
   "cell_type": "code",
   "execution_count": 107,
   "id": "e840fee8",
   "metadata": {},
   "outputs": [
    {
     "name": "stdout",
     "output_type": "stream",
     "text": [
      "enter the binary string : 010000\n",
      "validated\n"
     ]
    }
   ],
   "source": [
    "import re\n",
    "text=input(\"enter the binary string : \")\n",
    "p=\"[0-1][0-1][0][0-1{2}]\"\n",
    "r=re.findall(p,text)\n",
    "s=re.search(p,text)\n",
    "if re.search(p,text):\n",
    "    print(\"validated\")\n",
    "else:\n",
    "    print(\"not validated\")"
   ]
  },
  {
   "cell_type": "code",
   "execution_count": null,
   "id": "6b549035",
   "metadata": {},
   "outputs": [],
   "source": [
    "import re\n",
    "text=input(\"enter the binary string : \")\n",
    "p=\"[0-1][0-1][0]\"\n",
    "r=re.findall(p,text)\n",
    "s=re.search(p,text)\n",
    "if re.search(p,text):\n",
    "    print(\"validated\")\n",
    "else:\n",
    "    print(\"not validated\")"
   ]
  },
  {
   "cell_type": "code",
   "execution_count": null,
   "id": "2c7618d8",
   "metadata": {},
   "outputs": [],
   "source": [
    "import re\n"
   ]
  }
 ],
 "metadata": {
  "kernelspec": {
   "display_name": "Python 3 (ipykernel)",
   "language": "python",
   "name": "python3"
  },
  "language_info": {
   "codemirror_mode": {
    "name": "ipython",
    "version": 3
   },
   "file_extension": ".py",
   "mimetype": "text/x-python",
   "name": "python",
   "nbconvert_exporter": "python",
   "pygments_lexer": "ipython3",
   "version": "3.9.7"
  }
 },
 "nbformat": 4,
 "nbformat_minor": 5
}
