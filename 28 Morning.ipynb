{
 "cells": [
  {
   "cell_type": "code",
   "execution_count": 2,
   "id": "5c20fe55",
   "metadata": {},
   "outputs": [
    {
     "name": "stdout",
     "output_type": "stream",
     "text": [
      "10\n",
      "20\n",
      "50\n",
      "34\n",
      "78\n",
      "90\n"
     ]
    }
   ],
   "source": [
    "import time \n",
    "l=[10,20,50,34,78,90]\n",
    "for i in l:\n",
    "    print(i)\n",
    "    time.sleep(3)\n",
    "\n",
    "    \n",
    "    "
   ]
  },
  {
   "cell_type": "code",
   "execution_count": 4,
   "id": "1087771c",
   "metadata": {},
   "outputs": [
    {
     "name": "stdout",
     "output_type": "stream",
     "text": [
      "1\n",
      "2\n",
      "3\n",
      "4\n",
      "5\n",
      "6\n",
      "7\n",
      "8\n",
      "9\n",
      "10\n",
      "the time elapsed between starting and ending of the program is  0.01868309999997564\n"
     ]
    }
   ],
   "source": [
    "#how to count time processing doen by one execution of program\n",
    "import time\n",
    "i=1\n",
    "start=time.perf_counter()\n",
    "while(i<=10):\n",
    "    print(i)\n",
    "    i=i+1\n",
    "stop=time.perf_counter()\n",
    "print(\"the time elapsed between starting and ending of the program is \", stop-start)\n"
   ]
  },
  {
   "cell_type": "code",
   "execution_count": 5,
   "id": "a99d481a",
   "metadata": {},
   "outputs": [
    {
     "name": "stdout",
     "output_type": "stream",
     "text": [
      "1\n",
      "2\n",
      "3\n",
      "4\n",
      "5\n",
      "6\n",
      "7\n",
      "8\n",
      "9\n",
      "10\n",
      "the time elapsed between starting and ending of the program is  0.004090199999950528\n"
     ]
    }
   ],
   "source": [
    "#how to count time processing doen by one execution of program\n",
    "import time\n",
    "start=time.perf_counter()\n",
    "i=1\n",
    "\n",
    "while(i<=10):\n",
    "    print(i)\n",
    "    i=i+1\n",
    "stop=time.perf_counter()\n",
    "print(\"the time elapsed between starting and ending of the program is \", stop-start)"
   ]
  },
  {
   "cell_type": "code",
   "execution_count": null,
   "id": "59f10ff8",
   "metadata": {},
   "outputs": [],
   "source": [
    "#two process needed for thread operations :\n",
    "1. threading module \n",
    "2. thread class\n",
    "\n",
    "syntax : thread(functionname,arguement)\n"
   ]
  },
  {
   "cell_type": "code",
   "execution_count": 10,
   "id": "f1b3330d",
   "metadata": {},
   "outputs": [
    {
     "name": "stdout",
     "output_type": "stream",
     "text": [
      "first function\n",
      "second function\n",
      "the total time taken by funtions are  0.003000497817993164\n"
     ]
    }
   ],
   "source": [
    "import threading  #thread module \n",
    "import time  #it manages time taken for processing of thread \n",
    "#two process to execute 2 functions in thread\n",
    "def first():\n",
    "    print(\"first function\")\n",
    "    time.sleep(2)\n",
    "def second():\n",
    "    print(\"second function\")\n",
    "    time.sleep(2)\n",
    "\n",
    "t=time.time() #it will calculate total time taken by the program to execute two functions \n",
    "first()\n",
    "second()\n",
    "print(\"the total time taken by funtions are \",time.time()-t)"
   ]
  },
  {
   "cell_type": "code",
   "execution_count": 13,
   "id": "f25a72e5",
   "metadata": {},
   "outputs": [
    {
     "name": "stdout",
     "output_type": "stream",
     "text": [
      "first thread callingthe thread operations completed\n",
      "\n"
     ]
    }
   ],
   "source": [
    "#thread operations \n",
    "#1. run()\n",
    "#2. start()\n",
    "#3. join() \n",
    "#import the module \n",
    "import threading \n",
    "def sample():\n",
    "    print(\"first thread calling\")\n",
    "\n",
    "thread1=threading.Thread(target=sample)\n",
    "thread1.start() #it is manadtory to start a thread a function is being passed .\n",
    "print(\"the thread operations completed\")\n"
   ]
  },
  {
   "cell_type": "code",
   "execution_count": 16,
   "id": "0a014493",
   "metadata": {},
   "outputs": [
    {
     "name": "stdout",
     "output_type": "stream",
     "text": [
      "first thread callingthe thread operations completed\n",
      "\n",
      "the output is 4\n"
     ]
    }
   ],
   "source": [
    "#thread with an arguments\n",
    "import threading \n",
    "def sample(x):\n",
    "    print(\"first thread calling\")\n",
    "    print(\"the output is\",x)\n",
    "\n",
    "thread1=threading.Thread(target=sample,args=(4,))\n",
    "thread1.start() #it is manadtory to start a thread a function is being passed .\n",
    "print(\"the thread operations completed\")"
   ]
  },
  {
   "cell_type": "code",
   "execution_count": 19,
   "id": "31c0467d",
   "metadata": {},
   "outputs": [
    {
     "name": "stdout",
     "output_type": "stream",
     "text": [
      "enter a number to validate11\n",
      "number is prime\n"
     ]
    }
   ],
   "source": [
    "#thread program to check prime or not\n",
    "num=int(input(\"enter a number to validate\"))\n",
    "temp=0\n",
    "if num>1:\n",
    "    for i in range(2,num//2): #to check the number if divisible by any number between 2 to 10 then it is not a prime \n",
    "        if num%i==0:  #this is to check whether it has any multiple\n",
    "            temp=1\n",
    "            break\n",
    "else:\n",
    "    print(\"the number not a prime \")\n",
    "if temp==0:\n",
    "    print(\"number is prime\")\n",
    "else:\n",
    "    print(\"not a prime\")"
   ]
  },
  {
   "cell_type": "code",
   "execution_count": 25,
   "id": "225dce47",
   "metadata": {},
   "outputs": [
    {
     "name": "stdout",
     "output_type": "stream",
     "text": [
      "not a prime\n",
      "execution done\n"
     ]
    }
   ],
   "source": [
    "import threading\n",
    "def prime(num):\n",
    "    if num>1:\n",
    "        for i in range(2,num//2): #to check the number if divisible by any number between 2 to 10 then it is not a prime \n",
    "            if num%i==0:  #this is to check whether it has any multiple\n",
    "                temp=1\n",
    "                break\n",
    "            else:\n",
    "                print(\"the number not a prime \")\n",
    "        if temp==0:\n",
    "            print(\"number is prime\")\n",
    "        else:\n",
    "            print(\"not a prime\")\n",
    "            \n",
    "thread1=threading.Thread(target=prime,args=(22,))\n",
    "thread1.start()\n",
    "print(\"execution done\")\n",
    "    "
   ]
  },
  {
   "cell_type": "code",
   "execution_count": 36,
   "id": "dfc60008",
   "metadata": {},
   "outputs": [
    {
     "name": "stdout",
     "output_type": "stream",
     "text": [
      "first thread calling\n",
      "the output is 4\n",
      "second thread calling\n",
      "the output is 5\n"
     ]
    }
   ],
   "source": [
    "#multithread process\n",
    "import threading \n",
    "def sample(x):\n",
    "    print(\"first thread calling\")\n",
    "    print(\"the output is\",x)\n",
    "def sample1(y):\n",
    "    print(\"second thread calling\")\n",
    "    print(\"the output is\",y)\n",
    "\n",
    "thread1=threading.Thread(target=sample,args=(4,))\n",
    "thread2=threading.Thread(target=sample1,args=(5,))\n",
    "thread1.start() #it is manadtory to start a thread a function is being passed .\n",
    "thread2.start()\n",
    "thread1.join()\n",
    "thread2.join() #join() functions helps to halt the execution of another thread when one thread is already in running .\n"
   ]
  },
  {
   "cell_type": "code",
   "execution_count": 37,
   "id": "96f941c2",
   "metadata": {},
   "outputs": [
    {
     "name": "stdout",
     "output_type": "stream",
     "text": [
      "enter text to searchTyiendl\n",
      "Found a match!\n"
     ]
    }
   ],
   "source": [
    "import re\n",
    "text=input(\"enter text to search\")\n",
    "patterns = '^[a-zA-Z0-9_]*$'\n",
    "if re.search(patterns, text):\n",
    "    print('Found a match!')\n",
    "else:\n",
    "    print('Not matched!')"
   ]
  },
  {
   "cell_type": "code",
   "execution_count": null,
   "id": "39a89302",
   "metadata": {},
   "outputs": [],
   "source": []
  }
 ],
 "metadata": {
  "kernelspec": {
   "display_name": "Python 3",
   "language": "python",
   "name": "python3"
  },
  "language_info": {
   "codemirror_mode": {
    "name": "ipython",
    "version": 3
   },
   "file_extension": ".py",
   "mimetype": "text/x-python",
   "name": "python",
   "nbconvert_exporter": "python",
   "pygments_lexer": "ipython3",
   "version": "3.8.8"
  }
 },
 "nbformat": 4,
 "nbformat_minor": 5
}
