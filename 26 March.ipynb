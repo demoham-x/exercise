{
 "cells": [
  {
   "cell_type": "code",
   "execution_count": 1,
   "id": "3d69ba8e",
   "metadata": {},
   "outputs": [
    {
     "name": "stdout",
     "output_type": "stream",
     "text": [
      "empid= 101\n",
      "empname= ryan\n",
      "4000\n"
     ]
    }
   ],
   "source": [
    "class Employee:\n",
    "    def __init__(self,empid,empname,ph):\n",
    "        self.empid=empid\n",
    "        self.empname=empname\n",
    "        self.ph=ph\n",
    "class fulltime(Employee):\n",
    "    def info(self):\n",
    "        print(\"empid=\",self.empid)\n",
    "        print(\"empname=\",self.empname)\n",
    "        perday=self.ph*8\n",
    "        print(perday)\n",
    "        \n",
    "    \n",
    "#object defination \n",
    "c=fulltime(101,\"ryan\",500)\n",
    "c.info()"
   ]
  },
  {
   "cell_type": "code",
   "execution_count": 8,
   "id": "82788c50",
   "metadata": {},
   "outputs": [
    {
     "name": "stdout",
     "output_type": "stream",
     "text": [
      "div= 0.8333333333333334\n"
     ]
    },
    {
     "ename": "AttributeError",
     "evalue": "'C' object has no attribute 'a'",
     "output_type": "error",
     "traceback": [
      "\u001b[1;31m---------------------------------------------------------------------------\u001b[0m",
      "\u001b[1;31mAttributeError\u001b[0m                            Traceback (most recent call last)",
      "\u001b[1;32m<ipython-input-8-56d643ab6a89>\u001b[0m in \u001b[0;36m<module>\u001b[1;34m\u001b[0m\n\u001b[0;32m     17\u001b[0m \u001b[0mc\u001b[0m\u001b[1;33m=\u001b[0m\u001b[0mC\u001b[0m\u001b[1;33m(\u001b[0m\u001b[1;36m5\u001b[0m\u001b[1;33m,\u001b[0m\u001b[1;36m6\u001b[0m\u001b[1;33m)\u001b[0m\u001b[1;33m\u001b[0m\u001b[1;33m\u001b[0m\u001b[0m\n\u001b[0;32m     18\u001b[0m \u001b[0mc\u001b[0m\u001b[1;33m.\u001b[0m\u001b[0minfo\u001b[0m\u001b[1;33m(\u001b[0m\u001b[1;33m)\u001b[0m\u001b[1;33m\u001b[0m\u001b[1;33m\u001b[0m\u001b[0m\n\u001b[1;32m---> 19\u001b[1;33m \u001b[0mc\u001b[0m\u001b[1;33m.\u001b[0m\u001b[0minfo1\u001b[0m\u001b[1;33m(\u001b[0m\u001b[1;33m)\u001b[0m\u001b[1;33m\u001b[0m\u001b[1;33m\u001b[0m\u001b[0m\n\u001b[0m",
      "\u001b[1;32m<ipython-input-8-56d643ab6a89>\u001b[0m in \u001b[0;36minfo1\u001b[1;34m(self)\u001b[0m\n\u001b[0;32m      4\u001b[0m         \u001b[0mself\u001b[0m\u001b[1;33m.\u001b[0m\u001b[0mb\u001b[0m\u001b[1;33m=\u001b[0m\u001b[0mb\u001b[0m\u001b[1;33m\u001b[0m\u001b[1;33m\u001b[0m\u001b[0m\n\u001b[0;32m      5\u001b[0m     \u001b[1;32mdef\u001b[0m \u001b[0minfo1\u001b[0m\u001b[1;33m(\u001b[0m\u001b[0mself\u001b[0m\u001b[1;33m)\u001b[0m\u001b[1;33m:\u001b[0m\u001b[1;33m\u001b[0m\u001b[1;33m\u001b[0m\u001b[0m\n\u001b[1;32m----> 6\u001b[1;33m         \u001b[0mprint\u001b[0m\u001b[1;33m(\u001b[0m\u001b[1;34m\"sum=\"\u001b[0m\u001b[1;33m,\u001b[0m\u001b[0mself\u001b[0m\u001b[1;33m.\u001b[0m\u001b[0ma\u001b[0m\u001b[1;33m+\u001b[0m\u001b[0mself\u001b[0m\u001b[1;33m.\u001b[0m\u001b[0mb\u001b[0m\u001b[1;33m)\u001b[0m\u001b[1;33m\u001b[0m\u001b[1;33m\u001b[0m\u001b[0m\n\u001b[0m\u001b[0;32m      7\u001b[0m \u001b[1;32mclass\u001b[0m \u001b[0mB\u001b[0m\u001b[1;33m:\u001b[0m\u001b[1;33m\u001b[0m\u001b[1;33m\u001b[0m\u001b[0m\n\u001b[0;32m      8\u001b[0m     \u001b[1;32mdef\u001b[0m \u001b[0m__init__\u001b[0m\u001b[1;33m(\u001b[0m\u001b[0mself\u001b[0m\u001b[1;33m,\u001b[0m\u001b[0mx\u001b[0m\u001b[1;33m,\u001b[0m\u001b[0my\u001b[0m\u001b[1;33m)\u001b[0m\u001b[1;33m:\u001b[0m\u001b[1;33m\u001b[0m\u001b[1;33m\u001b[0m\u001b[0m\n",
      "\u001b[1;31mAttributeError\u001b[0m: 'C' object has no attribute 'a'"
     ]
    }
   ],
   "source": [
    "class A:\n",
    "    def __init__(self,a,b):\n",
    "        self.a=a\n",
    "        self.b=b\n",
    "    def info1(self):\n",
    "        print(\"sum=\",self.a+self.b)\n",
    "class B:\n",
    "    def __init__(self,x,y):\n",
    "        self.x=x\n",
    "        self.y=y\n",
    "    def info(self):\n",
    "        print(\"div=\",self.x/self.y)\n",
    "class C(B,A):\n",
    "    pass\n",
    "    \n",
    "    \n",
    "c=C(5,6)\n",
    "c.info()\n",
    "c.info1()"
   ]
  },
  {
   "cell_type": "code",
   "execution_count": 9,
   "id": "656d7c61",
   "metadata": {},
   "outputs": [
    {
     "name": "stdout",
     "output_type": "stream",
     "text": [
      "div= 0.6\n",
      "sum= 15\n"
     ]
    }
   ],
   "source": [
    "class A:\n",
    "    \n",
    "    def info1(self,a,b):\n",
    "        print(\"sum=\",a+b)\n",
    "class B:\n",
    "   \n",
    "    def info(self,x,y):\n",
    "        print(\"div=\",x/y)\n",
    "class C(B,A):\n",
    "    pass\n",
    "    \n",
    "    \n",
    "c=C()\n",
    "c.info(3,5)\n",
    "c.info1(8,7)"
   ]
  },
  {
   "cell_type": "code",
   "execution_count": 11,
   "id": "97845da8",
   "metadata": {},
   "outputs": [
    {
     "name": "stdout",
     "output_type": "stream",
     "text": [
      "child class function\n",
      "parent class function\n"
     ]
    }
   ],
   "source": [
    "#super() in inheritance \n",
    "class A:\n",
    "    def __init__(self):\n",
    "        print(\"parent class function\")\n",
    "class B(A):\n",
    "    def __init__(self):\n",
    "        print(\"child class function\")\n",
    "        super().__init__()\n",
    "    \n",
    "b=B()\n"
   ]
  },
  {
   "cell_type": "code",
   "execution_count": null,
   "id": "9e86452f",
   "metadata": {},
   "outputs": [],
   "source": [
    "#functions / properties defining objects \n",
    "1. hasattr()\n",
    "2. getattr()\n",
    "3. setattr()\n",
    "4. delattr()\n",
    "\n"
   ]
  },
  {
   "cell_type": "code",
   "execution_count": 12,
   "id": "4b952577",
   "metadata": {},
   "outputs": [
    {
     "name": "stdout",
     "output_type": "stream",
     "text": [
      "empid= 101\n",
      "empname= ryan\n",
      "4000\n"
     ]
    }
   ],
   "source": [
    "class Employee:\n",
    "    def __init__(self,empid,empname,ph):\n",
    "        self.empid=empid\n",
    "        self.empname=empname\n",
    "        self.ph=ph\n",
    "class fulltime(Employee):\n",
    "    def info(self):\n",
    "        print(\"empid=\",self.empid)\n",
    "        print(\"empname=\",self.empname)\n",
    "        perday=self.ph*8\n",
    "        print(perday)\n",
    "        \n",
    "    \n",
    "#object defination \n",
    "c=fulltime(101,\"ryan\",500)\n",
    "c.info()"
   ]
  },
  {
   "cell_type": "code",
   "execution_count": 14,
   "id": "0e428a94",
   "metadata": {},
   "outputs": [
    {
     "data": {
      "text/plain": [
       "False"
      ]
     },
     "execution_count": 14,
     "metadata": {},
     "output_type": "execute_result"
    }
   ],
   "source": [
    "hasattr(c,'desig') #it checks whether the attribute is a part of class or not"
   ]
  },
  {
   "cell_type": "code",
   "execution_count": 15,
   "id": "069132fb",
   "metadata": {},
   "outputs": [
    {
     "data": {
      "text/plain": [
       "'ryan'"
      ]
     },
     "execution_count": 15,
     "metadata": {},
     "output_type": "execute_result"
    }
   ],
   "source": [
    "getattr(c,'empname')"
   ]
  },
  {
   "cell_type": "code",
   "execution_count": 16,
   "id": "cbcbd628",
   "metadata": {},
   "outputs": [],
   "source": [
    "setattr(c,'ph',800)"
   ]
  },
  {
   "cell_type": "code",
   "execution_count": 17,
   "id": "a95ea178",
   "metadata": {},
   "outputs": [
    {
     "data": {
      "text/plain": [
       "800"
      ]
     },
     "execution_count": 17,
     "metadata": {},
     "output_type": "execute_result"
    }
   ],
   "source": [
    "getattr(c,'ph')"
   ]
  },
  {
   "cell_type": "code",
   "execution_count": 18,
   "id": "871dfe13",
   "metadata": {},
   "outputs": [],
   "source": [
    "delattr(c,'empid')"
   ]
  },
  {
   "cell_type": "code",
   "execution_count": 19,
   "id": "7b5f3931",
   "metadata": {},
   "outputs": [
    {
     "data": {
      "text/plain": [
       "False"
      ]
     },
     "execution_count": 19,
     "metadata": {},
     "output_type": "execute_result"
    }
   ],
   "source": [
    "hasattr(c,'empid')"
   ]
  },
  {
   "cell_type": "code",
   "execution_count": 20,
   "id": "ba5e3ed7",
   "metadata": {},
   "outputs": [
    {
     "data": {
      "text/plain": [
       "True"
      ]
     },
     "execution_count": 20,
     "metadata": {},
     "output_type": "execute_result"
    }
   ],
   "source": [
    "isinstance(c,Employee)"
   ]
  },
  {
   "cell_type": "code",
   "execution_count": 21,
   "id": "d9ad20f3",
   "metadata": {},
   "outputs": [
    {
     "name": "stdout",
     "output_type": "stream",
     "text": [
      "None\n",
      "Employee\n",
      "__main__\n"
     ]
    }
   ],
   "source": [
    "print(Employee.__doc__)\n",
    "print(Employee.__name__)\n",
    "print(Employee.__module__)\n"
   ]
  },
  {
   "cell_type": "code",
   "execution_count": null,
   "id": "01f048dd",
   "metadata": {},
   "outputs": [],
   "source": [
    "class A:\n",
    "    pass\n",
    "class B(A):\n",
    "    pass\n",
    "class C(B):\n",
    "    pass\n",
    "c=C()"
   ]
  },
  {
   "cell_type": "code",
   "execution_count": 23,
   "id": "e7f19a4c",
   "metadata": {},
   "outputs": [
    {
     "name": "stdout",
     "output_type": "stream",
     "text": [
      "area of rectangle= 32\n",
      "area of square= 25\n",
      "area of rectangle= 19.625\n"
     ]
    }
   ],
   "source": [
    "#practical implementation of polymorphism \n",
    "class rect:\n",
    "    def __init__(self,l,b):\n",
    "        self.l=l\n",
    "        self.b=b\n",
    "    def area(self):\n",
    "        print(\"area of rectangle=\",self.l*self.b)\n",
    "class square:\n",
    "    def __init__(self,s):\n",
    "        self.s=s\n",
    "      \n",
    "    def area(self):\n",
    "        print(\"area of square=\",self.s*self.s)\n",
    "class circle:\n",
    "    def __init__(self,r):\n",
    "        self.r=r\n",
    "\n",
    "    def area(self):\n",
    "        print(\"area of rectangle=\",self.r*self.r*3.14)\n",
    "        \n",
    "r=rect(4,8)\n",
    "r.area()\n",
    "s=square(5)\n",
    "s.area()\n",
    "c=circle(2.5)\n",
    "c.area()\n",
    "             "
   ]
  },
  {
   "cell_type": "code",
   "execution_count": 24,
   "id": "94d8987c",
   "metadata": {},
   "outputs": [
    {
     "name": "stdout",
     "output_type": "stream",
     "text": [
      "area of rectangle= 32\n",
      "area of square= 25\n",
      "area of rectangle= 19.625\n"
     ]
    }
   ],
   "source": [
    "class rect:\n",
    "    def __init__(self,l,b):\n",
    "        self.l=l\n",
    "        self.b=b\n",
    "    def area(self):\n",
    "        print(\"area of rectangle=\",self.l*self.b)\n",
    "class square:\n",
    "    def __init__(self,s):\n",
    "        self.s=s\n",
    "      \n",
    "    def area(self):\n",
    "        print(\"area of square=\",self.s*self.s)\n",
    "class circle:\n",
    "    def __init__(self,r):\n",
    "        self.r=r\n",
    "\n",
    "    def area(self):\n",
    "        print(\"area of rectangle=\",self.r*self.r*3.14)\n",
    "        \n",
    "r=rect(4,8)\n",
    "s=square(5)\n",
    "c=circle(2.5)\n",
    "for i in (r,s,c):\n",
    "    i.area()\n",
    "             "
   ]
  },
  {
   "cell_type": "code",
   "execution_count": 25,
   "id": "a131f579",
   "metadata": {},
   "outputs": [
    {
     "name": "stdout",
     "output_type": "stream",
     "text": [
      "the book title is Jane Auston\n",
      "the book author is Pride and Prejudice\n",
      "the book title is Jane Auston\n",
      "the book author is Pride and Prejudice\n",
      "the book title is Leo Tolstoy \n",
      "the book author is 3.\tWar and Peace\n"
     ]
    }
   ],
   "source": [
    "class Book:\n",
    "    def __init__(self,author,title):\n",
    "        self.author=author\n",
    "        self.title=title\n",
    "    def get_title(self):\n",
    "        print(\"the book title is\",self.title)\n",
    "    def get_author(self):\n",
    "        print(\"the book author is\",self.author)\n",
    "\n",
    "pp=Book('Pride and Prejudice','Jane Auston')\n",
    "pp.get_title()\n",
    "pp.get_author()\n",
    "w=Book('Hamlet ','William Shakespeare')\n",
    "pp.get_title()\n",
    "pp.get_author()\n",
    "pp=Book('3.\tWar and Peace','Leo Tolstoy ')\n",
    "pp.get_title()\n",
    "pp.get_author()\n"
   ]
  },
  {
   "cell_type": "code",
   "execution_count": 26,
   "id": "63e6a6cd",
   "metadata": {},
   "outputs": [
    {
     "name": "stdout",
     "output_type": "stream",
     "text": [
      "the book title is Jane Auston\n",
      "the book author is Pride and Prejudice\n",
      "the book title is William Shakespeare\n",
      "the book author is Hamlet \n",
      "the book title is Leo Tolstoy \n",
      "the book author is 3.\tWar and Peace\n"
     ]
    }
   ],
   "source": [
    "class Book:\n",
    "    def __init__(self,author,title):\n",
    "        self.author=author\n",
    "        self.title=title\n",
    "    def get_title(self):\n",
    "        print(\"the book title is\",self.title)\n",
    "    def get_author(self):\n",
    "        print(\"the book author is\",self.author)\n",
    "\n",
    "pp=Book('Pride and Prejudice','Jane Auston')\n",
    "\n",
    "w=Book('Hamlet ','William Shakespeare')\n",
    "\n",
    "wp=Book('3.\tWar and Peace','Leo Tolstoy ')\n",
    "for i in (pp,w,wp):\n",
    "    i.get_title()\n",
    "    i.get_author()\n",
    "    \n"
   ]
  },
  {
   "cell_type": "code",
   "execution_count": null,
   "id": "71c583b9",
   "metadata": {},
   "outputs": [],
   "source": []
  }
 ],
 "metadata": {
  "kernelspec": {
   "display_name": "Python 3",
   "language": "python",
   "name": "python3"
  },
  "language_info": {
   "codemirror_mode": {
    "name": "ipython",
    "version": 3
   },
   "file_extension": ".py",
   "mimetype": "text/x-python",
   "name": "python",
   "nbconvert_exporter": "python",
   "pygments_lexer": "ipython3",
   "version": "3.8.8"
  }
 },
 "nbformat": 4,
 "nbformat_minor": 5
}
