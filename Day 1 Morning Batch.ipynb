{
 "cells": [
  {
   "cell_type": "code",
   "execution_count": null,
   "id": "e20ea724",
   "metadata": {},
   "outputs": [],
   "source": [
    "Basic Tokens : \n",
    "    keywords : 32\n",
    "    variables : \n",
    "    Literals \n",
    "    datatypes\n",
    "    opeartors/operands\n",
    "    statements\n",
    "    functions \n",
    "    "
   ]
  },
  {
   "cell_type": "code",
   "execution_count": 3,
   "id": "6bc93eeb",
   "metadata": {
    "scrolled": true
   },
   "outputs": [
    {
     "name": "stdout",
     "output_type": "stream",
     "text": [
      "13\n"
     ]
    }
   ],
   "source": [
    "#program to add two numbers\n",
    "#decalartion part \n",
    "a=5\n",
    "b=8\n",
    "#executable part\n",
    "add=a+b\n",
    "print(add)"
   ]
  },
  {
   "cell_type": "code",
   "execution_count": 7,
   "id": "2d2b7c07",
   "metadata": {},
   "outputs": [
    {
     "name": "stdout",
     "output_type": "stream",
     "text": [
      "the sum of 5 and 8 is 13\n"
     ]
    }
   ],
   "source": [
    "#multiple declarations \n",
    "a,b=5,8\n",
    "add=a+b\n",
    "print(\"the sum of {} and {} is {}\".format(a,b,add))"
   ]
  },
  {
   "cell_type": "code",
   "execution_count": 6,
   "id": "ecdde3f3",
   "metadata": {},
   "outputs": [
    {
     "name": "stdout",
     "output_type": "stream",
     "text": [
      "the sum of the number is  18\n"
     ]
    }
   ],
   "source": [
    "#mutiple assignment \n",
    "a=b=c=9\n",
    "add=a+b\n",
    "print(\"the sum of the number is \", add)"
   ]
  },
  {
   "cell_type": "code",
   "execution_count": 11,
   "id": "e1fe719a",
   "metadata": {},
   "outputs": [
    {
     "name": "stdout",
     "output_type": "stream",
     "text": [
      "enter a number for increment8\n",
      "the next increment of 8 is 9\n"
     ]
    }
   ],
   "source": [
    "num=int(input(\"enter a number for increment\"))\n",
    "print(\"the next increment of {} is {}\".format(num,num+1))"
   ]
  },
  {
   "cell_type": "code",
   "execution_count": null,
   "id": "6dc8a5b8",
   "metadata": {},
   "outputs": [],
   "source": []
  }
 ],
 "metadata": {
  "kernelspec": {
   "display_name": "Python 3",
   "language": "python",
   "name": "python3"
  },
  "language_info": {
   "codemirror_mode": {
    "name": "ipython",
    "version": 3
   },
   "file_extension": ".py",
   "mimetype": "text/x-python",
   "name": "python",
   "nbconvert_exporter": "python",
   "pygments_lexer": "ipython3",
   "version": "3.8.8"
  }
 },
 "nbformat": 4,
 "nbformat_minor": 5
}
