{
 "cells": [
  {
   "cell_type": "code",
   "execution_count": 1,
   "id": "1854adfd",
   "metadata": {},
   "outputs": [],
   "source": [
    "def group_by_owners(files):\n",
    "    result = {}\n",
    "    for file, owner in files.items():  # use files.iteritems() on Python 2.x\n",
    "        result[owner] = result.get(owner,[]) + [file]  # you can use setdefault(), too\n",
    "    return result\n",
    "    \n",
    "    "
   ]
  },
  {
   "cell_type": "code",
   "execution_count": 2,
   "id": "50641703",
   "metadata": {},
   "outputs": [
    {
     "data": {
      "text/plain": [
       "{'randy': ['input.txt', 'output.txt'], 'stan': ['code.py']}"
      ]
     },
     "execution_count": 2,
     "metadata": {},
     "output_type": "execute_result"
    }
   ],
   "source": [
    "group_by_owners({\"input.txt\":\"randy\",\"code.py\":\"stan\",\"output.txt\":\"randy\"})"
   ]
  },
  {
   "cell_type": "code",
   "execution_count": null,
   "id": "c9c5ee5d",
   "metadata": {},
   "outputs": [],
   "source": []
  }
 ],
 "metadata": {
  "kernelspec": {
   "display_name": "Python 3 (ipykernel)",
   "language": "python",
   "name": "python3"
  },
  "language_info": {
   "codemirror_mode": {
    "name": "ipython",
    "version": 3
   },
   "file_extension": ".py",
   "mimetype": "text/x-python",
   "name": "python",
   "nbconvert_exporter": "python",
   "pygments_lexer": "ipython3",
   "version": "3.9.7"
  }
 },
 "nbformat": 4,
 "nbformat_minor": 5
}
